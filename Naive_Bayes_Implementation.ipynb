{
 "cells": [
  {
   "cell_type": "markdown",
   "metadata": {},
   "source": [
    "<h1> Naive Bayes Implementation </h1>"
   ]
  },
  {
   "cell_type": "markdown",
   "metadata": {},
   "source": [
    "<p> In this assignment Machine Learning Algorithms such as Naive Bayes and K Nearest Neigbors are implemented and tested </p>"
   ]
  },
  {
   "cell_type": "code",
   "execution_count": 4,
   "metadata": {},
   "outputs": [],
   "source": [
    "import numpy as np\n",
    "import pandas as pd\n",
    "from matplotlib import pyplot as plt"
   ]
  },
  {
   "cell_type": "code",
   "execution_count": 5,
   "metadata": {},
   "outputs": [],
   "source": [
    "def get_dataframe(filename=\"irisTraining.txt\",header=None,delimiter=\" \"):\n",
    "    \"\"\"This function reads the data from given files and return a pandas datafram object.\n",
    "    \n",
    "    Args:\n",
    "        filename(string): The name of file that contains dataset\n",
    "        header: Header of the file\n",
    "        delimiter(string): the character that sperates columns of data\n",
    "    Returns:\n",
    "        pandas dataframe: A pandas datafram object containing the data from the filename\n",
    "    \"\"\"\n",
    "    dataframe_df = pd.read_csv(filename,sep=delimiter,header=header) #read files\n",
    "    return dataframe_df #return dataframe"
   ]
  },
  {
   "cell_type": "code",
   "execution_count": 6,
   "metadata": {},
   "outputs": [
    {
     "data": {
      "text/html": [
       "<div>\n",
       "<style scoped>\n",
       "    .dataframe tbody tr th:only-of-type {\n",
       "        vertical-align: middle;\n",
       "    }\n",
       "\n",
       "    .dataframe tbody tr th {\n",
       "        vertical-align: top;\n",
       "    }\n",
       "\n",
       "    .dataframe thead th {\n",
       "        text-align: right;\n",
       "    }\n",
       "</style>\n",
       "<table border=\"1\" class=\"dataframe\">\n",
       "  <thead>\n",
       "    <tr style=\"text-align: right;\">\n",
       "      <th></th>\n",
       "      <th>0</th>\n",
       "      <th>1</th>\n",
       "      <th>2</th>\n",
       "      <th>3</th>\n",
       "      <th>4</th>\n",
       "    </tr>\n",
       "  </thead>\n",
       "  <tbody>\n",
       "    <tr>\n",
       "      <th>0</th>\n",
       "      <td>5.9</td>\n",
       "      <td>-1.0</td>\n",
       "      <td>4.2</td>\n",
       "      <td>1.5</td>\n",
       "      <td>1</td>\n",
       "    </tr>\n",
       "    <tr>\n",
       "      <th>1</th>\n",
       "      <td>6.9</td>\n",
       "      <td>-1.1</td>\n",
       "      <td>4.9</td>\n",
       "      <td>1.5</td>\n",
       "      <td>1</td>\n",
       "    </tr>\n",
       "    <tr>\n",
       "      <th>2</th>\n",
       "      <td>6.6</td>\n",
       "      <td>-1.9</td>\n",
       "      <td>4.6</td>\n",
       "      <td>1.3</td>\n",
       "      <td>1</td>\n",
       "    </tr>\n",
       "    <tr>\n",
       "      <th>3</th>\n",
       "      <td>4.6</td>\n",
       "      <td>-1.2</td>\n",
       "      <td>1.4</td>\n",
       "      <td>0.2</td>\n",
       "      <td>-1</td>\n",
       "    </tr>\n",
       "    <tr>\n",
       "      <th>4</th>\n",
       "      <td>6.0</td>\n",
       "      <td>-1.2</td>\n",
       "      <td>4.0</td>\n",
       "      <td>1.0</td>\n",
       "      <td>1</td>\n",
       "    </tr>\n",
       "    <tr>\n",
       "      <th>...</th>\n",
       "      <td>...</td>\n",
       "      <td>...</td>\n",
       "      <td>...</td>\n",
       "      <td>...</td>\n",
       "      <td>...</td>\n",
       "    </tr>\n",
       "    <tr>\n",
       "      <th>95</th>\n",
       "      <td>7.4</td>\n",
       "      <td>-1.8</td>\n",
       "      <td>6.1</td>\n",
       "      <td>1.9</td>\n",
       "      <td>-1</td>\n",
       "    </tr>\n",
       "    <tr>\n",
       "      <th>96</th>\n",
       "      <td>4.9</td>\n",
       "      <td>-1.4</td>\n",
       "      <td>-1.3</td>\n",
       "      <td>1.0</td>\n",
       "      <td>1</td>\n",
       "    </tr>\n",
       "    <tr>\n",
       "      <th>97</th>\n",
       "      <td>7.0</td>\n",
       "      <td>-1.2</td>\n",
       "      <td>4.7</td>\n",
       "      <td>1.4</td>\n",
       "      <td>1</td>\n",
       "    </tr>\n",
       "    <tr>\n",
       "      <th>98</th>\n",
       "      <td>5.5</td>\n",
       "      <td>-1.4</td>\n",
       "      <td>-1.7</td>\n",
       "      <td>1.0</td>\n",
       "      <td>1</td>\n",
       "    </tr>\n",
       "    <tr>\n",
       "      <th>99</th>\n",
       "      <td>6.3</td>\n",
       "      <td>-1.3</td>\n",
       "      <td>4.7</td>\n",
       "      <td>1.6</td>\n",
       "      <td>1</td>\n",
       "    </tr>\n",
       "  </tbody>\n",
       "</table>\n",
       "<p>100 rows × 5 columns</p>\n",
       "</div>"
      ],
      "text/plain": [
       "      0    1    2    3  4\n",
       "0   5.9 -1.0  4.2  1.5  1\n",
       "1   6.9 -1.1  4.9  1.5  1\n",
       "2   6.6 -1.9  4.6  1.3  1\n",
       "3   4.6 -1.2  1.4  0.2 -1\n",
       "4   6.0 -1.2  4.0  1.0  1\n",
       "..  ...  ...  ...  ... ..\n",
       "95  7.4 -1.8  6.1  1.9 -1\n",
       "96  4.9 -1.4 -1.3  1.0  1\n",
       "97  7.0 -1.2  4.7  1.4  1\n",
       "98  5.5 -1.4 -1.7  1.0  1\n",
       "99  6.3 -1.3  4.7  1.6  1\n",
       "\n",
       "[100 rows x 5 columns]"
      ]
     },
     "execution_count": 6,
     "metadata": {},
     "output_type": "execute_result"
    }
   ],
   "source": [
    "iris_train_df = get_dataframe(filename=\"datasets/irisTraining.txt\",header=None,delimiter=\" \")\n",
    "iris_train_df"
   ]
  },
  {
   "cell_type": "markdown",
   "metadata": {},
   "source": [
    "## Implementation of Gaussian Naive Bayes Algorithm"
   ]
  },
  {
   "cell_type": "code",
   "execution_count": 7,
   "metadata": {},
   "outputs": [],
   "source": [
    "class GaussianNaiveBayes():\n",
    "    def __init__(self):\n",
    "        self.__features_mean = {}\n",
    "        self.__features_sdevs = {}\n",
    "        self.__unique_labels = []\n",
    "        self.__trainset_df = None\n",
    "        self.__prior_probabilities = {}\n",
    "        \n",
    "    def get_labels(self):\n",
    "        return self.__unique_labels\n",
    "    \n",
    "    def fit(self,train_data_df):\n",
    "        \"\"\" THis function computes gaussian likehood \n",
    "        \"\"\"\n",
    "        #set train set for model\n",
    "        self.__trainset_df = train_data_df.copy()\n",
    "        \n",
    "        #  label column\n",
    "        label_column = list(self.__trainset_df.columns)\n",
    "        label_column = label_column[len(label_column)-1]\n",
    "        labels = train_data_df[label_column].to_numpy() #get labels for prior cacluations\n",
    "        total_count = len(labels)\n",
    "        \n",
    "        # get list of class labels\n",
    "        self.__unique_labels = set(self.__trainset_df[label_column])\n",
    "        \n",
    "        #caclulate gaussian parameters\n",
    "        for label in self.__unique_labels:\n",
    "            \n",
    "            # calcuate means and standard deviations\n",
    "            self.__features_mean[label] = list(self.__trainset_df[self.__trainset_df[label_column]==label].mean()) #get mean for specified classlabel  \n",
    "            self.__features_sdevs[label] = list(self.__trainset_df[self.__trainset_df[label_column]==label].std()) #get standard deviation for specified classlabel    \n",
    "    \n",
    "            #mean and standard deviation for label coumn is not required so drop then\n",
    "            self.__features_mean[label].pop()\n",
    "            self.__features_sdevs[label].pop()\n",
    "            \n",
    "            #prior probabity calculations\n",
    "            label_count = len(labels[labels==label])\n",
    "            prior = (label_count * 1.0) / (total_count * 1.0)\n",
    "            self.__prior_probabilities[label] = prior\n",
    "\n",
    "\n",
    "    def print_model_parameters(self):\n",
    "        print(\"Classes: \",self.__unique_labels)\n",
    "        print(\"\")\n",
    "        print(\"Means : \", self.__features_mean)\n",
    "        print(\"\")\n",
    "        print(\"Standard Deviations: \",self.__features_sdevs)\n",
    "        print(\"\")\n",
    "        print(\"Prior Probabilities: \", self.__prior_probabilities)\n",
    "        \n",
    "    \n",
    "    def predict_probabilities(self,test_set_df):\n",
    "        \"\"\"\n",
    "        \"\"\"\n",
    "        column_names = test_set_df.columns\n",
    "        label_column = len(column_names) - 1\n",
    "        feature_matrix = test_set_df.drop([label_column],axis=1)\n",
    "        feature_matrix = feature_matrix.to_numpy()\n",
    "        labels_list = []\n",
    "        probabilities = []\n",
    "        \n",
    "        # calculate gaussain likelihoods\n",
    "        for label in self.__unique_labels:\n",
    "            cur_matrix = feature_matrix - np.array(self.__features_mean[label])\n",
    "            cur_matrix = cur_matrix **2\n",
    "            cur_matrix = cur_matrix / (2 * (np.array(self.__features_sdevs[label])**2) )\n",
    "            cur_matrix = np.exp((-1 * cur_matrix))\n",
    "            cur_matrix = cur_matrix * (1.0/np.sqrt(2*np.pi*(np.array(self.__features_sdevs[label]))))\n",
    "            \n",
    "            if cur_matrix.ndim > 1:\n",
    "                cur_matrix = np.prod(cur_matrix,axis=1)\n",
    "            else:\n",
    "                cur_matrix = np.prod(cur_matrix)\n",
    "            \n",
    "            #multiply by prior probabilities\n",
    "            cur_matrix = cur_matrix * self.__prior_probabilities[label]\n",
    "            \n",
    "            labels_list.append(label)\n",
    "            probabilities.append(cur_matrix)\n",
    "        \n",
    "        # make probabilities into single dataframe\n",
    "        probabilities_df = pd.DataFrame(probabilities) #convert to dataframe\n",
    "        probabilities_df = probabilities_df.transpose()\n",
    "        probabilities_df.columns = labels_list #add labels\n",
    "        return probabilities_df\n",
    "    \n",
    "    def predict_labels(self,test_set_df):\n",
    "        probabilities_df = self.predict_probabilities(test_set_df)\n",
    "        labels_list = probabilities_df.columns\n",
    "        probabilities_df = probabilities_df.to_numpy()\n",
    "        max_index = np.argmax(probabilities_df,axis=1) #get maximum of each row, axis= 1 horizontal, max each row\n",
    "        return np.array(labels_list[max_index])\n",
    "        \n",
    "    def evaluate(self,test_set_df):\n",
    "        column_names = test_set_df.columns\n",
    "        label_column = len(column_names) - 1\n",
    "        actual_labels = test_set_df[label_column].to_numpy()\n",
    "        predicted_labels = self.predict_labels(test_set_df)\n",
    "        #print(\"1\",len(predicted_labels[predicted_labels==1]))\n",
    "        #print(\"-1\",len(predicted_labels[predicted_labels==-1]))\n",
    "        agreement =  ( (1.0 * sum(actual_labels == predicted_labels)) / (1.0 * len(predicted_labels)) ) * 100\n",
    "        print(\"Model Accuracy: %0.3f%%\"%agreement)\n",
    "        return agreement"
   ]
  },
  {
   "cell_type": "code",
   "execution_count": 8,
   "metadata": {},
   "outputs": [],
   "source": [
    "model = GaussianNaiveBayes()"
   ]
  },
  {
   "cell_type": "code",
   "execution_count": 9,
   "metadata": {},
   "outputs": [],
   "source": [
    "model.fit(iris_train_df)"
   ]
  },
  {
   "cell_type": "code",
   "execution_count": 10,
   "metadata": {},
   "outputs": [
    {
     "name": "stdout",
     "output_type": "stream",
     "text": [
      "Classes:  {1, -1}\n",
      "\n",
      "Means :  {1: [5.847058823529412, -1.388235294117647, 3.005882352941176, 1.3], -1: [5.771212121212121, -1.3181818181818181, 3.548484848484849, 0.22272727272727275]}\n",
      "\n",
      "Standard Deviations:  {1: [0.5124127681076908, 0.3198150089171844, 2.5404534523024638, 0.21602468994692867], -1: [0.9419725868157492, 0.7743799685324615, 2.080328555725489, 1.091617776801647]}\n",
      "\n",
      "Prior Probabilities:  {1: 0.34, -1: 0.66}\n"
     ]
    }
   ],
   "source": [
    "model.print_model_parameters()"
   ]
  },
  {
   "cell_type": "code",
   "execution_count": 11,
   "metadata": {},
   "outputs": [
    {
     "name": "stdout",
     "output_type": "stream",
     "text": [
      "     0    1    2    3  4\n",
      "0  5.9 -1.0  4.2  1.5  1\n",
      "1  6.9 -1.1  4.9  1.5  1\n",
      "2  6.6 -1.9  4.6  1.3  1\n",
      "3  4.6 -1.2  1.4  0.2 -1\n",
      "4  6.0 -1.2  4.0  1.0  1\n",
      "\n"
     ]
    },
    {
     "data": {
      "text/html": [
       "<div>\n",
       "<style scoped>\n",
       "    .dataframe tbody tr th:only-of-type {\n",
       "        vertical-align: middle;\n",
       "    }\n",
       "\n",
       "    .dataframe tbody tr th {\n",
       "        vertical-align: top;\n",
       "    }\n",
       "\n",
       "    .dataframe thead th {\n",
       "        text-align: right;\n",
       "    }\n",
       "</style>\n",
       "<table border=\"1\" class=\"dataframe\">\n",
       "  <thead>\n",
       "    <tr style=\"text-align: right;\">\n",
       "      <th></th>\n",
       "      <th>1</th>\n",
       "      <th>-1</th>\n",
       "    </tr>\n",
       "  </thead>\n",
       "  <tbody>\n",
       "    <tr>\n",
       "      <th>0</th>\n",
       "      <td>7.975071e-03</td>\n",
       "      <td>0.005679</td>\n",
       "    </tr>\n",
       "    <tr>\n",
       "      <th>1</th>\n",
       "      <td>1.142966e-03</td>\n",
       "      <td>0.002487</td>\n",
       "    </tr>\n",
       "    <tr>\n",
       "      <th>2</th>\n",
       "      <td>2.227253e-03</td>\n",
       "      <td>0.003597</td>\n",
       "    </tr>\n",
       "    <tr>\n",
       "      <th>3</th>\n",
       "      <td>2.397189e-09</td>\n",
       "      <td>0.003476</td>\n",
       "    </tr>\n",
       "    <tr>\n",
       "      <th>4</th>\n",
       "      <td>8.157332e-03</td>\n",
       "      <td>0.009449</td>\n",
       "    </tr>\n",
       "  </tbody>\n",
       "</table>\n",
       "</div>"
      ],
      "text/plain": [
       "              1        -1\n",
       "0  7.975071e-03  0.005679\n",
       "1  1.142966e-03  0.002487\n",
       "2  2.227253e-03  0.003597\n",
       "3  2.397189e-09  0.003476\n",
       "4  8.157332e-03  0.009449"
      ]
     },
     "execution_count": 11,
     "metadata": {},
     "output_type": "execute_result"
    }
   ],
   "source": [
    "sindex = 0\n",
    "eindex = 5\n",
    "test = iris_train_df.iloc[sindex:eindex]\n",
    "print(test)\n",
    "print(\"\")\n",
    "df = model.predict_probabilities(test)\n",
    "df"
   ]
  },
  {
   "cell_type": "code",
   "execution_count": 12,
   "metadata": {},
   "outputs": [
    {
     "data": {
      "text/plain": [
       "array([ 1, -1, -1, -1, -1], dtype=int64)"
      ]
     },
     "execution_count": 12,
     "metadata": {},
     "output_type": "execute_result"
    }
   ],
   "source": [
    "model.predict_labels(test)"
   ]
  },
  {
   "cell_type": "code",
   "execution_count": 13,
   "metadata": {},
   "outputs": [
    {
     "name": "stdout",
     "output_type": "stream",
     "text": [
      "Model Accuracy: 89.000%\n"
     ]
    },
    {
     "data": {
      "text/plain": [
       "89.0"
      ]
     },
     "execution_count": 13,
     "metadata": {},
     "output_type": "execute_result"
    }
   ],
   "source": [
    "model.evaluate(iris_train_df)"
   ]
  },
  {
   "cell_type": "code",
   "execution_count": 14,
   "metadata": {},
   "outputs": [
    {
     "data": {
      "text/plain": [
       "array([ 1,  1,  1, -1,  1, -1, -1, -1, -1, -1, -1, -1,  1, -1, -1, -1, -1,\n",
       "        1, -1, -1, -1, -1, -1,  1, -1, -1,  1, -1, -1, -1, -1, -1, -1,  1,\n",
       "        1,  1,  1, -1,  1, -1,  1,  1, -1, -1,  1, -1, -1,  1, -1, -1,  1,\n",
       "       -1, -1, -1, -1, -1, -1, -1,  1,  1, -1, -1, -1, -1,  1,  1, -1, -1,\n",
       "       -1, -1, -1, -1,  1, -1, -1, -1, -1, -1, -1,  1, -1,  1,  1, -1,  1,\n",
       "        1,  1, -1, -1, -1, -1, -1, -1,  1, -1, -1,  1,  1,  1,  1],\n",
       "      dtype=int64)"
      ]
     },
     "execution_count": 14,
     "metadata": {},
     "output_type": "execute_result"
    }
   ],
   "source": [
    "iris_train_df[4].to_numpy()"
   ]
  },
  {
   "cell_type": "code",
   "execution_count": 15,
   "metadata": {},
   "outputs": [
    {
     "data": {
      "text/plain": [
       "array([ 1, -1, -1, -1, -1, -1, -1, -1, -1, -1, -1, -1,  1, -1, -1, -1, -1,\n",
       "        1, -1, -1, -1, -1, -1,  1, -1, -1,  1, -1, -1, -1, -1, -1, -1,  1,\n",
       "        1,  1, -1, -1,  1, -1,  1,  1, -1, -1,  1, -1, -1,  1, -1, -1,  1,\n",
       "       -1, -1, -1, -1, -1, -1, -1,  1,  1,  1, -1, -1, -1,  1,  1, -1, -1,\n",
       "       -1, -1, -1, -1,  1, -1, -1, -1, -1, -1, -1, -1, -1,  1,  1, -1, -1,\n",
       "       -1, -1, -1, -1, -1, -1, -1, -1,  1,  1, -1,  1, -1,  1,  1],\n",
       "      dtype=int64)"
      ]
     },
     "execution_count": 15,
     "metadata": {},
     "output_type": "execute_result"
    }
   ],
   "source": [
    "model.predict_labels(iris_train_df)"
   ]
  },
  {
   "cell_type": "code",
   "execution_count": 16,
   "metadata": {},
   "outputs": [],
   "source": [
    "iris_test_df = get_dataframe(filename=\"datasets/irisTesting.txt\",header=None,delimiter=\" \")"
   ]
  },
  {
   "cell_type": "code",
   "execution_count": 17,
   "metadata": {},
   "outputs": [
    {
     "name": "stdout",
     "output_type": "stream",
     "text": [
      "Model Accuracy: 86.000%\n"
     ]
    },
    {
     "data": {
      "text/plain": [
       "86.0"
      ]
     },
     "execution_count": 17,
     "metadata": {},
     "output_type": "execute_result"
    }
   ],
   "source": [
    "model.evaluate(iris_test_df)"
   ]
  },
  {
   "cell_type": "code",
   "execution_count": 18,
   "metadata": {},
   "outputs": [
    {
     "data": {
      "text/plain": [
       "array([-1,  1, -1, -1, -1, -1, -1, -1, -1, -1,  1, -1, -1, -1,  1, -1, -1,\n",
       "        1, -1,  1, -1, -1, -1,  1, -1, -1,  1, -1, -1, -1, -1, -1, -1, -1,\n",
       "       -1, -1, -1,  1, -1,  1, -1, -1,  1, -1, -1, -1,  1, -1, -1, -1],\n",
       "      dtype=int64)"
      ]
     },
     "execution_count": 18,
     "metadata": {},
     "output_type": "execute_result"
    }
   ],
   "source": [
    "predicted = model.predict_labels(iris_test_df)\n",
    "predicted"
   ]
  },
  {
   "cell_type": "code",
   "execution_count": 19,
   "metadata": {},
   "outputs": [
    {
     "data": {
      "text/plain": [
       "array([ 1,  1, -1, -1,  1, -1, -1, -1, -1, -1,  1, -1,  1, -1,  1, -1, -1,\n",
       "       -1, -1,  1, -1, -1,  1,  1, -1, -1,  1, -1,  1, -1, -1, -1, -1, -1,\n",
       "       -1, -1, -1,  1, -1,  1, -1, -1,  1,  1, -1, -1,  1, -1, -1, -1],\n",
       "      dtype=int64)"
      ]
     },
     "execution_count": 19,
     "metadata": {},
     "output_type": "execute_result"
    }
   ],
   "source": [
    "actual = iris_test_df[4].to_numpy()\n",
    "actual"
   ]
  },
  {
   "cell_type": "code",
   "execution_count": 20,
   "metadata": {},
   "outputs": [
    {
     "data": {
      "text/plain": [
       "{-1, 1}"
      ]
     },
     "execution_count": 20,
     "metadata": {},
     "output_type": "execute_result"
    }
   ],
   "source": [
    "model.get_labels()"
   ]
  },
  {
   "cell_type": "code",
   "execution_count": 21,
   "metadata": {},
   "outputs": [],
   "source": [
    "def binary_confusion_matrix(actual_labels,predicted_labels):\n",
    "    true_positives = 0\n",
    "    false_negatives = 0\n",
    "    true_negatives = 0\n",
    "    false_positives = 0\n",
    "    for i in range(0,len(actual_labels)):\n",
    "        if actual_labels[i]==1:\n",
    "            if actual_labels[i] == predicted_labels[i]: #1 = 1\n",
    "                true_positives += 1\n",
    "            else: #1 != -1\n",
    "                false_negatives += 1\n",
    "        else: \n",
    "            if actual_labels[i] == predicted_labels[i]: #0 = 0\n",
    "                true_negatives += 1\n",
    "            else: #1 != -1\n",
    "                false_positives += 1\n",
    "    \n",
    "    confusion_matrix = np.squeeze(np.array([[true_positives,false_negatives],[false_positives,true_negatives]]))\n",
    "    #print(cm)\n",
    "    plt.clf()\n",
    "    #plt.imshow(cm, interpolation='nearest', cmap=plt.cm.inferno)\n",
    "    plt.imshow(confusion_matrix, cmap=plt.cm.inferno)\n",
    "    classNames = ['Positive','Negative']\n",
    "    plt.title(\"Confusion Matrix\")\n",
    "    plt.ylabel('True label')\n",
    "    plt.xlabel('Predicted label')\n",
    "    tick_marks = np.arange(len(classNames))\n",
    "    plt.xticks(tick_marks, classNames, rotation=45)\n",
    "    plt.yticks(tick_marks, classNames)\n",
    "    s = [['TP','FN'], ['FP', 'TN']]\n",
    "    for i in range(2):\n",
    "        for j in range(2):\n",
    "            plt.text(j,i,str(s[i][j])+\"=\"+str(confusion_matrix[i][j]),color=\"r\",fontsize=12)\n",
    "    plt.show()\n",
    "    return confusion_matrix\n"
   ]
  },
  {
   "cell_type": "code",
   "execution_count": 22,
   "metadata": {},
   "outputs": [
    {
     "data": {
      "image/png": "[encoded data removed]",
      "text/plain": [
       "<Figure size 432x288 with 1 Axes>"
      ]
     },
     "metadata": {
      "needs_background": "light"
     },
     "output_type": "display_data"
    },
    {
     "data": {
      "text/plain": [
       "array([[25,  9],\n",
       "       [ 2, 64]])"
      ]
     },
     "execution_count": 22,
     "metadata": {},
     "output_type": "execute_result"
    }
   ],
   "source": [
    "binary_confusion_matrix(iris_train_df[4].to_numpy(),model.predict_labels(iris_train_df))"
   ]
  },
  {
   "cell_type": "code",
   "execution_count": 23,
   "metadata": {},
   "outputs": [],
   "source": [
    "def binary_aprf(actual_labels,predicted_labels):\n",
    "    true_positives = 0\n",
    "    false_negatives = 0\n",
    "    true_negatives = 0\n",
    "    false_positives = 0\n",
    "    for i in range(0,len(actual_labels)):\n",
    "        if actual_labels[i]==1:\n",
    "            if actual_labels[i] == predicted_labels[i]: #1 = 1\n",
    "                true_positives += 1\n",
    "            else: #1 != -1\n",
    "                false_negatives += 1\n",
    "        else: \n",
    "            if actual_labels[i] == predicted_labels[i]: #0 = 0\n",
    "                true_negatives += 1\n",
    "            else: #1 != -1\n",
    "                false_positives += 1\n",
    "                \n",
    "    accuracy = ((true_positives + true_negatives) *1.0) / (1.0 * (true_positives + true_negatives + false_negatives + false_positives) )\n",
    "    precision = (true_positives * 1.0) / ( (true_positives + false_positives)* 1.0)\n",
    "    recall = (true_positives * 1.0) / ( (true_positives + false_negatives)* 1.0)\n",
    "    f_measure = (2.0 * true_positives) / (1.0 * ( (2.0 * true_positives) + false_positives + false_negatives ) )\n",
    "    print(\"Accuracy: %0.2f\"%accuracy)\n",
    "    print(\"Precision: %0.2f\"%precision)\n",
    "    print(\"Recall: %0.2f\"%recall)\n",
    "    print(\"F-Measure: %0.2f\"%f_measure)"
   ]
  },
  {
   "cell_type": "code",
   "execution_count": 24,
   "metadata": {},
   "outputs": [
    {
     "name": "stdout",
     "output_type": "stream",
     "text": [
      "Accuracy: 0.89\n",
      "Precision: 0.93\n",
      "Recall: 0.74\n",
      "F-Measure: 0.82\n"
     ]
    }
   ],
   "source": [
    "binary_aprf(iris_train_df[4].to_numpy(),model.predict_labels(iris_train_df))"
   ]
  },
  {
   "cell_type": "code",
   "execution_count": 25,
   "metadata": {},
   "outputs": [
    {
     "name": "stdout",
     "output_type": "stream",
     "text": [
      "Accuracy: 0.86\n",
      "Precision: 0.91\n",
      "Recall: 0.62\n",
      "F-Measure: 0.74\n"
     ]
    }
   ],
   "source": [
    "binary_aprf(iris_test_df[4].to_numpy(),model.predict_labels(iris_test_df))"
   ]
  },
  {
   "cell_type": "markdown",
   "metadata": {},
   "source": [
    "## Implementation of Categorical Naive Bayes Algorithm"
   ]
  },
  {
   "cell_type": "code",
   "execution_count": 42,
   "metadata": {},
   "outputs": [
    {
     "data": {
      "text/html": [
       "<div>\n",
       "<style scoped>\n",
       "    .dataframe tbody tr th:only-of-type {\n",
       "        vertical-align: middle;\n",
       "    }\n",
       "\n",
       "    .dataframe tbody tr th {\n",
       "        vertical-align: top;\n",
       "    }\n",
       "\n",
       "    .dataframe thead th {\n",
       "        text-align: right;\n",
       "    }\n",
       "</style>\n",
       "<table border=\"1\" class=\"dataframe\">\n",
       "  <thead>\n",
       "    <tr style=\"text-align: right;\">\n",
       "      <th></th>\n",
       "      <th>0</th>\n",
       "      <th>1</th>\n",
       "      <th>2</th>\n",
       "      <th>3</th>\n",
       "      <th>4</th>\n",
       "    </tr>\n",
       "  </thead>\n",
       "  <tbody>\n",
       "    <tr>\n",
       "      <th>0</th>\n",
       "      <td>1</td>\n",
       "      <td>3</td>\n",
       "      <td>2</td>\n",
       "      <td>1</td>\n",
       "      <td>-1</td>\n",
       "    </tr>\n",
       "    <tr>\n",
       "      <th>1</th>\n",
       "      <td>1</td>\n",
       "      <td>3</td>\n",
       "      <td>2</td>\n",
       "      <td>2</td>\n",
       "      <td>-1</td>\n",
       "    </tr>\n",
       "    <tr>\n",
       "      <th>2</th>\n",
       "      <td>2</td>\n",
       "      <td>3</td>\n",
       "      <td>2</td>\n",
       "      <td>1</td>\n",
       "      <td>1</td>\n",
       "    </tr>\n",
       "    <tr>\n",
       "      <th>3</th>\n",
       "      <td>3</td>\n",
       "      <td>2</td>\n",
       "      <td>2</td>\n",
       "      <td>1</td>\n",
       "      <td>1</td>\n",
       "    </tr>\n",
       "    <tr>\n",
       "      <th>4</th>\n",
       "      <td>3</td>\n",
       "      <td>1</td>\n",
       "      <td>1</td>\n",
       "      <td>1</td>\n",
       "      <td>1</td>\n",
       "    </tr>\n",
       "    <tr>\n",
       "      <th>5</th>\n",
       "      <td>3</td>\n",
       "      <td>1</td>\n",
       "      <td>1</td>\n",
       "      <td>2</td>\n",
       "      <td>-1</td>\n",
       "    </tr>\n",
       "    <tr>\n",
       "      <th>6</th>\n",
       "      <td>2</td>\n",
       "      <td>1</td>\n",
       "      <td>1</td>\n",
       "      <td>2</td>\n",
       "      <td>1</td>\n",
       "    </tr>\n",
       "    <tr>\n",
       "      <th>7</th>\n",
       "      <td>1</td>\n",
       "      <td>2</td>\n",
       "      <td>2</td>\n",
       "      <td>1</td>\n",
       "      <td>-1</td>\n",
       "    </tr>\n",
       "    <tr>\n",
       "      <th>8</th>\n",
       "      <td>1</td>\n",
       "      <td>1</td>\n",
       "      <td>1</td>\n",
       "      <td>1</td>\n",
       "      <td>1</td>\n",
       "    </tr>\n",
       "    <tr>\n",
       "      <th>9</th>\n",
       "      <td>3</td>\n",
       "      <td>2</td>\n",
       "      <td>1</td>\n",
       "      <td>1</td>\n",
       "      <td>1</td>\n",
       "    </tr>\n",
       "    <tr>\n",
       "      <th>10</th>\n",
       "      <td>1</td>\n",
       "      <td>2</td>\n",
       "      <td>1</td>\n",
       "      <td>2</td>\n",
       "      <td>1</td>\n",
       "    </tr>\n",
       "    <tr>\n",
       "      <th>11</th>\n",
       "      <td>2</td>\n",
       "      <td>2</td>\n",
       "      <td>2</td>\n",
       "      <td>2</td>\n",
       "      <td>1</td>\n",
       "    </tr>\n",
       "    <tr>\n",
       "      <th>12</th>\n",
       "      <td>2</td>\n",
       "      <td>3</td>\n",
       "      <td>1</td>\n",
       "      <td>1</td>\n",
       "      <td>1</td>\n",
       "    </tr>\n",
       "    <tr>\n",
       "      <th>13</th>\n",
       "      <td>3</td>\n",
       "      <td>1</td>\n",
       "      <td>2</td>\n",
       "      <td>2</td>\n",
       "      <td>-1</td>\n",
       "    </tr>\n",
       "  </tbody>\n",
       "</table>\n",
       "</div>"
      ],
      "text/plain": [
       "    0  1  2  3  4\n",
       "0   1  3  2  1 -1\n",
       "1   1  3  2  2 -1\n",
       "2   2  3  2  1  1\n",
       "3   3  2  2  1  1\n",
       "4   3  1  1  1  1\n",
       "5   3  1  1  2 -1\n",
       "6   2  1  1  2  1\n",
       "7   1  2  2  1 -1\n",
       "8   1  1  1  1  1\n",
       "9   3  2  1  1  1\n",
       "10  1  2  1  2  1\n",
       "11  2  2  2  2  1\n",
       "12  2  3  1  1  1\n",
       "13  3  1  2  2 -1"
      ]
     },
     "execution_count": 42,
     "metadata": {},
     "output_type": "execute_result"
    }
   ],
   "source": [
    "buy_train_df = get_dataframe(filename=\"datasets/buyTraining.txt\",header=None,delimiter=\" \")\n",
    "buy_train_df"
   ]
  },
  {
   "cell_type": "code",
   "execution_count": 27,
   "metadata": {},
   "outputs": [],
   "source": [
    "def build_freq_corpus(dataframe_df):\n",
    "    freq_corpus= {}\n",
    "    feature_matrix= buy_train_df.to_numpy()\n",
    "    for i in range(0,feature_matrix.shape[0]):\n",
    "        for j in range(0,feature_matrix.shape[1]-1):\n",
    "            attribute = j\n",
    "            category = feature_matrix[i,j]\n",
    "            label = feature_matrix[i,feature_matrix.shape[1]-1]\n",
    "            key_pair = (attribute,category,label)\n",
    "            if key_pair not in freq_corpus:\n",
    "                freq_corpus[key_pair] = 1\n",
    "            else:\n",
    "                freq_corpus[key_pair] += 1\n",
    "    return freq_corpus"
   ]
  },
  {
   "cell_type": "code",
   "execution_count": 28,
   "metadata": {},
   "outputs": [
    {
     "data": {
      "text/plain": [
       "{(0, 1, -1): 3,\n",
       " (1, 3, -1): 2,\n",
       " (2, 2, -1): 4,\n",
       " (3, 1, -1): 2,\n",
       " (3, 2, -1): 3,\n",
       " (0, 2, 1): 4,\n",
       " (1, 3, 1): 2,\n",
       " (2, 2, 1): 3,\n",
       " (3, 1, 1): 6,\n",
       " (0, 3, 1): 3,\n",
       " (1, 2, 1): 4,\n",
       " (1, 1, 1): 3,\n",
       " (2, 1, 1): 6,\n",
       " (0, 3, -1): 2,\n",
       " (1, 1, -1): 2,\n",
       " (2, 1, -1): 1,\n",
       " (3, 2, 1): 3,\n",
       " (1, 2, -1): 1,\n",
       " (0, 1, 1): 2}"
      ]
     },
     "execution_count": 28,
     "metadata": {},
     "output_type": "execute_result"
    }
   ],
   "source": [
    "freq_corpus = build_freq_corpus(buy_train_df)\n",
    "freq_corpus"
   ]
  },
  {
   "cell_type": "code",
   "execution_count": 29,
   "metadata": {},
   "outputs": [],
   "source": [
    "#compute label counts\n",
    "unique_labels = set(buy_train_df[4])\n",
    "unique_labels\n",
    "label_frequencies = {}\n",
    "for label in unique_labels:\n",
    "    label_frequencies[label] = len(buy_train_df[buy_train_df[4]==label][4])"
   ]
  },
  {
   "cell_type": "code",
   "execution_count": 43,
   "metadata": {},
   "outputs": [],
   "source": [
    "#compute posterior likelihood\n",
    "feature_matrix= buy_train_df.to_numpy()\n",
    "prior_probabilities = {}\n",
    "for key_pair in freq_corpus.keys():\n",
    "    category_freq = freq_corpus[key_pair]\n",
    "    label_freq = label_frequencies[key_pair[2]]\n",
    "    posterior_prob = (1.0 * category_freq) / (1.0 * label_freq)\n",
    "    prior_probabilities[key_pair] = posterior_prob"
   ]
  },
  {
   "cell_type": "code",
   "execution_count": 44,
   "metadata": {},
   "outputs": [
    {
     "data": {
      "text/plain": [
       "array([0., 0., 0., 0.])"
      ]
     },
     "execution_count": 44,
     "metadata": {},
     "output_type": "execute_result"
    }
   ],
   "source": [
    "np.zeros(4)"
   ]
  },
  {
   "cell_type": "code",
   "execution_count": 65,
   "metadata": {},
   "outputs": [],
   "source": [
    "class CategoricalNaiveBayes():\n",
    "    def __init__(self):\n",
    "        self.__unique_labels = ()\n",
    "        self.__label_frequencies = {}\n",
    "        self.__category_frequencies = {}\n",
    "        self.__prior_probabilities = {}\n",
    "        self.__posterior_probabilities = {}\n",
    "        self.__trainset_df = None\n",
    "        \n",
    "    def print_parameters(self):\n",
    "        print(\"Classes: \", self.__unique_labels)\n",
    "        print(\"\")\n",
    "        print(\"Class Frequencies: \",self.__label_frequencies)\n",
    "        print(\"\")\n",
    "        print(\"Category Frequencies: \",self.__category_frequencies)\n",
    "        print(\"\")\n",
    "        print(\"Prior Probabilities: \",self.__prior_probabilities)\n",
    "        print(\"\")\n",
    "        print(\"Posterior Probabilities: \",self.__posterior_probabilities)\n",
    "\n",
    "    def fit(self,train_set_df):\n",
    "        \n",
    "        #compute categorical frequencies\n",
    "        feature_matrix= train_set_df.to_numpy()\n",
    "        for i in range(0,feature_matrix.shape[0]):\n",
    "            for j in range(0,feature_matrix.shape[1]-1):\n",
    "                attribute = j\n",
    "                category = feature_matrix[i,j]\n",
    "                label = feature_matrix[i,feature_matrix.shape[1]-1]\n",
    "                key_pair = (attribute,category,label)\n",
    "                if key_pair not in self.__category_frequencies:\n",
    "                    self.__category_frequencies[key_pair] = 1\n",
    "                else:\n",
    "                    self.__category_frequencies[key_pair] += 1\n",
    "                    \n",
    "        #compute label frequencies and prior probabilities\n",
    "        label_column = list(train_set_df.columns)\n",
    "        label_column = label_column[len(label_column)-1]\n",
    "        self.__unique_labels = list(set(train_set_df[label_column])) # get list of class labels\n",
    "        \n",
    "        for label in self.__unique_labels:\n",
    "            self.__label_frequencies[label] = len(buy_train_df[buy_train_df[4]==label][4])\n",
    "            \n",
    "        #compute posterior likelihood\n",
    "        for key_pair in self.__category_frequencies.keys():\n",
    "            category_freq = self.__category_frequencies[key_pair]\n",
    "            label_freq = self.__label_frequencies[key_pair[2]]\n",
    "            posterior_prob = (1.0 * category_freq) / (1.0 * label_freq)\n",
    "            self.__posterior_probabilities[key_pair] = posterior_prob\n",
    "            \n",
    "        #compute prior probabiilies\n",
    "        total_labels = len(train_set_df[label_column])\n",
    "        for label in self.__unique_labels:\n",
    "            freq = len(buy_train_df[buy_train_df[4]==label][4])\n",
    "            prior_prob = (1.0 * freq) / (total_labels * 1.0)\n",
    "            self.__prior_probabilities[label] = prior_prob\n",
    "            \n",
    "    def predict_probabilities(self,test_set_df):\n",
    "        #get column\n",
    "        label_column = list(test_set_df.columns)\n",
    "        label_column = label_column[len(label_column)-1]\n",
    "        \n",
    "        feature_matrix = test_set_df.to_numpy() #convert to numpy\n",
    "        predicted_probailities = [] #predcited probabilities\n",
    "        for i in range(0,feature_matrix.shape[0]):\n",
    "            row_probs = np.zeros(len(self.__unique_labels))\n",
    "            for j in range(0,feature_matrix.shape[1]-1):\n",
    "                attribute = j\n",
    "                category = feature_matrix[i,j]\n",
    "                label_wise_prob = []\n",
    "                for k in range(0,len(self.__unique_labels)):\n",
    "                    key_pair = (attribute,category,self.__unique_labels[k])\n",
    "                    posterior_prob = self.__posterior_probabilities[key_pair]\n",
    "                    if j == 0:\n",
    "                        row_probs[k] = posterior_prob\n",
    "                    else:\n",
    "                        row_probs[k] *= posterior_prob\n",
    "            predicted_probailities.append(row_probs)\n",
    "            \n",
    "        predicted_probailities = np.squeeze(np.array(predicted_probailities))\n",
    "        predicted_probailities = pd.dataframe(predicted_probailities)\n",
    "        print(predicted_probailities)"
   ]
  },
  {
   "cell_type": "code",
   "execution_count": 66,
   "metadata": {},
   "outputs": [],
   "source": [
    "cat_model = CategoricalNaiveBayes()"
   ]
  },
  {
   "cell_type": "markdown",
   "metadata": {},
   "source": [
    "<H1> Add One to Categorical Freqencies: Laplacian Smoothing </H1>"
   ]
  },
  {
   "cell_type": "code",
   "execution_count": 62,
   "metadata": {},
   "outputs": [],
   "source": [
    "cat_model.fit(buy_train_df)"
   ]
  },
  {
   "cell_type": "code",
   "execution_count": 63,
   "metadata": {},
   "outputs": [
    {
     "name": "stdout",
     "output_type": "stream",
     "text": [
      "Classes:  [1, -1]\n",
      "\n",
      "Class Frequencies:  {1: 9, -1: 5}\n",
      "\n",
      "Category Frequencies:  {(0, 1, -1): 3, (1, 3, -1): 2, (2, 2, -1): 4, (3, 1, -1): 2, (3, 2, -1): 3, (0, 2, 1): 4, (1, 3, 1): 2, (2, 2, 1): 3, (3, 1, 1): 6, (0, 3, 1): 3, (1, 2, 1): 4, (1, 1, 1): 3, (2, 1, 1): 6, (0, 3, -1): 2, (1, 1, -1): 2, (2, 1, -1): 1, (3, 2, 1): 3, (1, 2, -1): 1, (0, 1, 1): 2}\n",
      "\n",
      "Prior Probabilities:  {1: 0.6428571428571429, -1: 0.35714285714285715}\n",
      "\n",
      "Posterior Probabilities:  {(0, 1, -1): 0.6, (1, 3, -1): 0.4, (2, 2, -1): 0.8, (3, 1, -1): 0.4, (3, 2, -1): 0.6, (0, 2, 1): 0.4444444444444444, (1, 3, 1): 0.2222222222222222, (2, 2, 1): 0.3333333333333333, (3, 1, 1): 0.6666666666666666, (0, 3, 1): 0.3333333333333333, (1, 2, 1): 0.4444444444444444, (1, 1, 1): 0.3333333333333333, (2, 1, 1): 0.6666666666666666, (0, 3, -1): 0.4, (1, 1, -1): 0.4, (2, 1, -1): 0.2, (3, 2, 1): 0.3333333333333333, (1, 2, -1): 0.2, (0, 1, 1): 0.2222222222222222}\n"
     ]
    }
   ],
   "source": [
    "cat_model.print_parameters()"
   ]
  },
  {
   "cell_type": "code",
   "execution_count": 64,
   "metadata": {},
   "outputs": [
    {
     "ename": "KeyError",
     "evalue": "(0, 2, -1)",
     "output_type": "error",
     "traceback": [
      "\u001b[1;31m---------------------------------------------------------------------------\u001b[0m",
      "\u001b[1;31mKeyError\u001b[0m                                  Traceback (most recent call last)",
      "\u001b[1;32m<ipython-input-64-1eac5eb06991>\u001b[0m in \u001b[0;36m<module>\u001b[1;34m\u001b[0m\n\u001b[1;32m----> 1\u001b[1;33m \u001b[0mcat_model\u001b[0m\u001b[1;33m.\u001b[0m\u001b[0mpredict_probabilities\u001b[0m\u001b[1;33m(\u001b[0m\u001b[0mbuy_train_df\u001b[0m\u001b[1;33m)\u001b[0m\u001b[1;33m\u001b[0m\u001b[1;33m\u001b[0m\u001b[0m\n\u001b[0m",
      "\u001b[1;32m<ipython-input-60-73132c0b53a7>\u001b[0m in \u001b[0;36mpredict_probabilities\u001b[1;34m(self, test_set_df)\u001b[0m\n\u001b[0;32m     71\u001b[0m                 \u001b[1;32mfor\u001b[0m \u001b[0mk\u001b[0m \u001b[1;32min\u001b[0m \u001b[0mrange\u001b[0m\u001b[1;33m(\u001b[0m\u001b[1;36m0\u001b[0m\u001b[1;33m,\u001b[0m\u001b[0mlen\u001b[0m\u001b[1;33m(\u001b[0m\u001b[0mself\u001b[0m\u001b[1;33m.\u001b[0m\u001b[0m__unique_labels\u001b[0m\u001b[1;33m)\u001b[0m\u001b[1;33m)\u001b[0m\u001b[1;33m:\u001b[0m\u001b[1;33m\u001b[0m\u001b[1;33m\u001b[0m\u001b[0m\n\u001b[0;32m     72\u001b[0m                     \u001b[0mkey_pair\u001b[0m \u001b[1;33m=\u001b[0m \u001b[1;33m(\u001b[0m\u001b[0mattribute\u001b[0m\u001b[1;33m,\u001b[0m\u001b[0mcategory\u001b[0m\u001b[1;33m,\u001b[0m\u001b[0mself\u001b[0m\u001b[1;33m.\u001b[0m\u001b[0m__unique_labels\u001b[0m\u001b[1;33m[\u001b[0m\u001b[0mk\u001b[0m\u001b[1;33m]\u001b[0m\u001b[1;33m)\u001b[0m\u001b[1;33m\u001b[0m\u001b[1;33m\u001b[0m\u001b[0m\n\u001b[1;32m---> 73\u001b[1;33m                     \u001b[0mposterior_prob\u001b[0m \u001b[1;33m=\u001b[0m \u001b[0mself\u001b[0m\u001b[1;33m.\u001b[0m\u001b[0m__posterior_probabilities\u001b[0m\u001b[1;33m[\u001b[0m\u001b[0mkey_pair\u001b[0m\u001b[1;33m]\u001b[0m\u001b[1;33m\u001b[0m\u001b[1;33m\u001b[0m\u001b[0m\n\u001b[0m\u001b[0;32m     74\u001b[0m                     \u001b[1;32mif\u001b[0m \u001b[0mj\u001b[0m \u001b[1;33m==\u001b[0m \u001b[1;36m0\u001b[0m\u001b[1;33m:\u001b[0m\u001b[1;33m\u001b[0m\u001b[1;33m\u001b[0m\u001b[0m\n\u001b[0;32m     75\u001b[0m                         \u001b[0mrow_probs\u001b[0m\u001b[1;33m[\u001b[0m\u001b[0mk\u001b[0m\u001b[1;33m]\u001b[0m \u001b[1;33m=\u001b[0m \u001b[0mposterior_prob\u001b[0m\u001b[1;33m\u001b[0m\u001b[1;33m\u001b[0m\u001b[0m\n",
      "\u001b[1;31mKeyError\u001b[0m: (0, 2, -1)"
     ]
    }
   ],
   "source": [
    "cat_model.predict_probabilities(buy_train_df)"
   ]
  },
  {
   "cell_type": "code",
   "execution_count": null,
   "metadata": {},
   "outputs": [],
   "source": []
  }
 ],
 "metadata": {
  "kernelspec": {
   "display_name": "Python 3",
   "language": "python",
   "name": "python3"
  },
  "language_info": {
   "codemirror_mode": {
    "name": "ipython",
    "version": 3
   },
   "file_extension": ".py",
   "mimetype": "text/x-python",
   "name": "python",
   "nbconvert_exporter": "python",
   "pygments_lexer": "ipython3",
   "version": "3.8.5"
  }
 },
 "nbformat": 4,
 "nbformat_minor": 4
}
