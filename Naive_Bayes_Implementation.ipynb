{
 "cells": [
  {
   "cell_type": "markdown",
   "metadata": {},
   "source": [
    "<h1> Naive Bayes Implementation (Gaussian And Categorical) </h1>"
   ]
  },
  {
   "cell_type": "code",
   "execution_count": 108,
   "metadata": {},
   "outputs": [],
   "source": [
    "import numpy as np\n",
    "import pandas as pd\n",
    "from matplotlib import pyplot as plt"
   ]
  },
  {
   "cell_type": "code",
   "execution_count": 109,
   "metadata": {},
   "outputs": [],
   "source": [
    "def get_dataframe(filename=\"irisTraining.txt\",header=None,delimiter=\" \"):\n",
    "    \"\"\"This function reads the data from given files and return a pandas datafram object.\n",
    "    \n",
    "    Args:\n",
    "        filename(string): The name of file that contains dataset\n",
    "        header: Header of the file\n",
    "        delimiter(string): the character that sperates columns of data\n",
    "    Returns:\n",
    "        pandas dataframe: A pandas datafram object containing the data from the filename\n",
    "    \"\"\"\n",
    "    dataframe_df = pd.read_csv(filename,sep=delimiter,header=header) #read files\n",
    "    return dataframe_df #return dataframe"
   ]
  },
  {
   "cell_type": "code",
   "execution_count": 110,
   "metadata": {},
   "outputs": [
    {
     "data": {
      "text/html": [
       "<div>\n",
       "<style scoped>\n",
       "    .dataframe tbody tr th:only-of-type {\n",
       "        vertical-align: middle;\n",
       "    }\n",
       "\n",
       "    .dataframe tbody tr th {\n",
       "        vertical-align: top;\n",
       "    }\n",
       "\n",
       "    .dataframe thead th {\n",
       "        text-align: right;\n",
       "    }\n",
       "</style>\n",
       "<table border=\"1\" class=\"dataframe\">\n",
       "  <thead>\n",
       "    <tr style=\"text-align: right;\">\n",
       "      <th></th>\n",
       "      <th>0</th>\n",
       "      <th>1</th>\n",
       "      <th>2</th>\n",
       "      <th>3</th>\n",
       "      <th>4</th>\n",
       "    </tr>\n",
       "  </thead>\n",
       "  <tbody>\n",
       "    <tr>\n",
       "      <th>0</th>\n",
       "      <td>5.9</td>\n",
       "      <td>-1.0</td>\n",
       "      <td>4.2</td>\n",
       "      <td>1.5</td>\n",
       "      <td>1</td>\n",
       "    </tr>\n",
       "    <tr>\n",
       "      <th>1</th>\n",
       "      <td>6.9</td>\n",
       "      <td>-1.1</td>\n",
       "      <td>4.9</td>\n",
       "      <td>1.5</td>\n",
       "      <td>1</td>\n",
       "    </tr>\n",
       "    <tr>\n",
       "      <th>2</th>\n",
       "      <td>6.6</td>\n",
       "      <td>-1.9</td>\n",
       "      <td>4.6</td>\n",
       "      <td>1.3</td>\n",
       "      <td>1</td>\n",
       "    </tr>\n",
       "    <tr>\n",
       "      <th>3</th>\n",
       "      <td>4.6</td>\n",
       "      <td>-1.2</td>\n",
       "      <td>1.4</td>\n",
       "      <td>0.2</td>\n",
       "      <td>-1</td>\n",
       "    </tr>\n",
       "    <tr>\n",
       "      <th>4</th>\n",
       "      <td>6.0</td>\n",
       "      <td>-1.2</td>\n",
       "      <td>4.0</td>\n",
       "      <td>1.0</td>\n",
       "      <td>1</td>\n",
       "    </tr>\n",
       "    <tr>\n",
       "      <th>...</th>\n",
       "      <td>...</td>\n",
       "      <td>...</td>\n",
       "      <td>...</td>\n",
       "      <td>...</td>\n",
       "      <td>...</td>\n",
       "    </tr>\n",
       "    <tr>\n",
       "      <th>95</th>\n",
       "      <td>7.4</td>\n",
       "      <td>-1.8</td>\n",
       "      <td>6.1</td>\n",
       "      <td>1.9</td>\n",
       "      <td>-1</td>\n",
       "    </tr>\n",
       "    <tr>\n",
       "      <th>96</th>\n",
       "      <td>4.9</td>\n",
       "      <td>-1.4</td>\n",
       "      <td>-1.3</td>\n",
       "      <td>1.0</td>\n",
       "      <td>1</td>\n",
       "    </tr>\n",
       "    <tr>\n",
       "      <th>97</th>\n",
       "      <td>7.0</td>\n",
       "      <td>-1.2</td>\n",
       "      <td>4.7</td>\n",
       "      <td>1.4</td>\n",
       "      <td>1</td>\n",
       "    </tr>\n",
       "    <tr>\n",
       "      <th>98</th>\n",
       "      <td>5.5</td>\n",
       "      <td>-1.4</td>\n",
       "      <td>-1.7</td>\n",
       "      <td>1.0</td>\n",
       "      <td>1</td>\n",
       "    </tr>\n",
       "    <tr>\n",
       "      <th>99</th>\n",
       "      <td>6.3</td>\n",
       "      <td>-1.3</td>\n",
       "      <td>4.7</td>\n",
       "      <td>1.6</td>\n",
       "      <td>1</td>\n",
       "    </tr>\n",
       "  </tbody>\n",
       "</table>\n",
       "<p>100 rows × 5 columns</p>\n",
       "</div>"
      ],
      "text/plain": [
       "      0    1    2    3  4\n",
       "0   5.9 -1.0  4.2  1.5  1\n",
       "1   6.9 -1.1  4.9  1.5  1\n",
       "2   6.6 -1.9  4.6  1.3  1\n",
       "3   4.6 -1.2  1.4  0.2 -1\n",
       "4   6.0 -1.2  4.0  1.0  1\n",
       "..  ...  ...  ...  ... ..\n",
       "95  7.4 -1.8  6.1  1.9 -1\n",
       "96  4.9 -1.4 -1.3  1.0  1\n",
       "97  7.0 -1.2  4.7  1.4  1\n",
       "98  5.5 -1.4 -1.7  1.0  1\n",
       "99  6.3 -1.3  4.7  1.6  1\n",
       "\n",
       "[100 rows x 5 columns]"
      ]
     },
     "execution_count": 110,
     "metadata": {},
     "output_type": "execute_result"
    }
   ],
   "source": [
    "iris_train_df = get_dataframe(filename=\"datasets/irisTraining.txt\",header=None,delimiter=\" \")\n",
    "iris_train_df"
   ]
  },
  {
   "cell_type": "markdown",
   "metadata": {},
   "source": [
    "## Implementation of Gaussian Naive Bayes Algorithm"
   ]
  },
  {
   "cell_type": "code",
   "execution_count": 111,
   "metadata": {},
   "outputs": [],
   "source": [
    "class GaussianNaiveBayes():\n",
    "    \"\"\" This class is an implementation of Naive Bayes Algorithm for Gaussain Distribution.\n",
    "    \n",
    "    Attributes:\n",
    "        __features_mean (dictionary): A private class member that contains feature wise mean given label \n",
    "        __features_sdevs (dictionary): A private class member that contains feature wise standard deviation given label\n",
    "        __unique_labels (list): A private classs member that contains the categories (labels) of the train data\n",
    "        __trainset_df (dataframe): A private class meber that contains the trainning data set\n",
    "        __prior_probabilities (dictionary): A private class member that contains prior probabilibies for labels in __unique_labels\n",
    "    \"\"\"\n",
    "    def __init__(self):\n",
    "        \"\"\" This method is the default constructor for this class. THis method intializes private class members\n",
    "        \"\"\"\n",
    "        self.__features_mean = {}\n",
    "        self.__features_sdevs = {}\n",
    "        self.__unique_labels = []\n",
    "        self.__trainset_df = None\n",
    "        self.__prior_probabilities = {}\n",
    "    \n",
    "    def fit(self,train_data_df):\n",
    "        \"\"\" THis function computes the parameters neeeded to calculate gaussian naive bayes probabilities.\n",
    "        \n",
    "        Args:\n",
    "            train_data_df(pd.DataFrame): the trainning data for Gaussian Naive Bayes\n",
    "            \n",
    "        Returns:\n",
    "            None\n",
    "        \"\"\"\n",
    "        #set train set for model \n",
    "        self.__trainset_df = train_data_df.copy()\n",
    "        \n",
    "        #  get the the column that contains the category \n",
    "        label_column = list(self.__trainset_df.columns)\n",
    "        label_column = label_column[len(label_column)-1]\n",
    "        labels = train_data_df[label_column].to_numpy() #get labels for prior cacluations\n",
    "        total_count = len(labels) #compute totalnumber of data points\n",
    "        \n",
    "        # get list of class labels\n",
    "        self.__unique_labels = set(self.__trainset_df[label_column])\n",
    "        \n",
    "        #caclulate gaussian parameters\n",
    "        for label in self.__unique_labels:\n",
    "            \n",
    "            # calcuate means and standard deviations\n",
    "            self.__features_mean[label] = list(self.__trainset_df[self.__trainset_df[label_column]==label].mean()) #get mean for specified classlabel  \n",
    "            self.__features_sdevs[label] = list(self.__trainset_df[self.__trainset_df[label_column]==label].std()) #get standard deviation for specified classlabel    \n",
    "    \n",
    "            #mean and standard deviation for label coumn is not required so drop then\n",
    "            self.__features_mean[label].pop()\n",
    "            self.__features_sdevs[label].pop()\n",
    "            \n",
    "            #prior probabity calculations\n",
    "            label_count = len(labels[labels==label])\n",
    "            prior = (label_count * 1.0) / (total_count * 1.0)\n",
    "            self.__prior_probabilities[label] = prior\n",
    "\n",
    "\n",
    "    def print_model_parameters(self):\n",
    "        \"\"\" This class method prints the Gaussain Naive Bayes Model Parameters.\n",
    "        \n",
    "        Args:\n",
    "            None\n",
    "            \n",
    "        Returns:\n",
    "            None\n",
    "        \"\"\"\n",
    "        print(\"Classes: \",self.__unique_labels) #print categories\n",
    "        print(\"\")\n",
    "        print(\"Means : \", self.__features_mean) #print feature wise mean\n",
    "        print(\"\")\n",
    "        print(\"Standard Deviations: \",self.__features_sdevs) #print feature wise standard deviation\n",
    "        print(\"\")\n",
    "        print(\"Prior Probabilities: \", self.__prior_probabilities) #print label wise prior probabilities\n",
    "        \n",
    "    \n",
    "    def predict_probabilities(self,test_set_df):\n",
    "        \"\"\"This class method predits the probabiilities of given test data bsed of the model parameters calculate from trainning data.\n",
    "        \n",
    "        Args:\n",
    "            test_set_df(pandas.DataFrame): A Dataframe that contains the testing set whose probability is to be predicted\n",
    "            \n",
    "        Returns:\n",
    "            predicted_probabilities(pandas.DataFrame): A Dataframe that contains the label wise probability for test set\n",
    "        \"\"\"\n",
    "        \n",
    "        #get the columnt that contains the label\n",
    "        column_names = test_set_df.columns\n",
    "        label_column = len(column_names) - 1\n",
    "        feature_matrix = test_set_df.drop([label_column],axis=1)\n",
    "        feature_matrix = feature_matrix.to_numpy()\n",
    "        \n",
    "        #intialize lists to store labels and predicited probabilities\n",
    "        labels_list = []\n",
    "        probabilities = []\n",
    "        \n",
    "        # calculate gaussain likelihoods\n",
    "        for label in self.__unique_labels:\n",
    "            cur_matrix = feature_matrix - np.array(self.__features_mean[label])\n",
    "            cur_matrix = cur_matrix **2\n",
    "            cur_matrix = cur_matrix / (2 * (np.array(self.__features_sdevs[label])**2) )\n",
    "            cur_matrix = np.exp((-1 * cur_matrix))\n",
    "            cur_matrix = cur_matrix * (1.0/np.sqrt(2*np.pi*(np.array(self.__features_sdevs[label]))))\n",
    "            \n",
    "            if cur_matrix.ndim > 1:\n",
    "                cur_matrix = np.prod(cur_matrix,axis=1)\n",
    "            else:\n",
    "                cur_matrix = np.prod(cur_matrix)\n",
    "            \n",
    "            #multiply by prior probabilities\n",
    "            cur_matrix = cur_matrix * self.__prior_probabilities[label]\n",
    "            \n",
    "            labels_list.append(label)\n",
    "            probabilities.append(cur_matrix)\n",
    "        \n",
    "        # make probabilities into single dataframe\n",
    "        probabilities_df = pd.DataFrame(probabilities) #convert to dataframe\n",
    "        probabilities_df = probabilities_df.transpose()\n",
    "        probabilities_df.columns = labels_list #add labels\n",
    "        return probabilities_df\n",
    "    \n",
    "    def predict_labels(self,test_set_df):\n",
    "        \"\"\" This class method predicts the category label for given test set\n",
    "        \n",
    "        Args:\n",
    "            test_set_df(pandas.DataFrame): A Dataframe that contains the testing set whose label is to be predicted\n",
    "            \n",
    "        Returns:\n",
    "            predicted_labels(numpy.array): A numpy array that contains the predicted labels for given test data\n",
    "        \"\"\"\n",
    "        probabilities_df = self.predict_probabilities(test_set_df) #get predicted probabilities\n",
    "        labels_list = probabilities_df.columns #add column names \n",
    "        probabilities_df = probabilities_df.to_numpy() #convrt dataframe to numpy\n",
    "        max_index = np.argmax(probabilities_df,axis=1) #get maximum of each row, axis= 1 horizontal, max each row\n",
    "        predicted_labels = np.array(labels_list[max_index]) #get the value at the max index\n",
    "        return predicted_labels #return predicted label\n",
    "        \n",
    "    def evaluate(self,test_set_df):\n",
    "        \"\"\" This class method evalautes the model performace for given test set, the evaluation metric is accuracy\n",
    "        \n",
    "        Args:\n",
    "            test_set_df(pandas.DataFrame): A Dataframe that contains the testing set whose label is to be predicted\n",
    "            \n",
    "        Returns:\n",
    "            accuracy(float): THe percentage accuracy of model's predictions\n",
    "        \"\"\"        \n",
    "        column_names = test_set_df.columns #set column names\n",
    "        label_column = len(column_names) - 1\n",
    "        actual_labels = test_set_df[label_column].to_numpy()#convert from dataframe to numpy\n",
    "        predicted_labels = self.predict_labels(test_set_df) #get preditions\n",
    "        #print(\"1\",len(predicted_labels[predicted_labels==1]))\n",
    "        #print(\"-1\",len(predicted_labels[predicted_labels==-1]))\n",
    "        agreement =  ( (1.0 * sum(actual_labels == predicted_labels)) / (1.0 * len(predicted_labels)) ) * 100 #compute accuracy\n",
    "        print(\"Model Accuracy: %0.3f%%\"%agreement) \n",
    "        return agreement"
   ]
  },
  {
   "cell_type": "code",
   "execution_count": 112,
   "metadata": {},
   "outputs": [],
   "source": [
    "model = GaussianNaiveBayes()"
   ]
  },
  {
   "cell_type": "code",
   "execution_count": 113,
   "metadata": {},
   "outputs": [],
   "source": [
    "model.fit(iris_train_df)"
   ]
  },
  {
   "cell_type": "code",
   "execution_count": 114,
   "metadata": {},
   "outputs": [
    {
     "data": {
      "text/plain": [
       "' This class is an implementation of Naive Bayes Algorithm for Gaussain Distribution.\\n    \\n    Attributes:\\n        __features_mean (dictionary): A private class member that contains feature wise mean given label \\n        __features_sdevs (dictionary): A private class member that contains feature wise standard deviation given label\\n        __unique_labels (list): A private classs member that contains the categories (labels) of the train data\\n        __trainset_df (dataframe): A private class meber that contains the trainning data set\\n        __prior_probabilities (dictionary): A private class member that contains prior probabilibies for labels in __unique_labels\\n    '"
      ]
     },
     "execution_count": 114,
     "metadata": {},
     "output_type": "execute_result"
    }
   ],
   "source": [
    "model.__doc__"
   ]
  },
  {
   "cell_type": "code",
   "execution_count": 115,
   "metadata": {},
   "outputs": [
    {
     "name": "stdout",
     "output_type": "stream",
     "text": [
      "Classes:  {1, -1}\n",
      "\n",
      "Means :  {1: [5.847058823529412, -1.388235294117647, 3.005882352941176, 1.3], -1: [5.771212121212121, -1.3181818181818181, 3.548484848484849, 0.22272727272727275]}\n",
      "\n",
      "Standard Deviations:  {1: [0.5124127681076908, 0.3198150089171844, 2.5404534523024638, 0.21602468994692867], -1: [0.9419725868157492, 0.7743799685324615, 2.080328555725489, 1.091617776801647]}\n",
      "\n",
      "Prior Probabilities:  {1: 0.34, -1: 0.66}\n"
     ]
    }
   ],
   "source": [
    "model.print_model_parameters()"
   ]
  },
  {
   "cell_type": "code",
   "execution_count": 116,
   "metadata": {},
   "outputs": [
    {
     "name": "stdout",
     "output_type": "stream",
     "text": [
      "     0    1    2    3  4\n",
      "0  5.9 -1.0  4.2  1.5  1\n",
      "1  6.9 -1.1  4.9  1.5  1\n",
      "2  6.6 -1.9  4.6  1.3  1\n",
      "3  4.6 -1.2  1.4  0.2 -1\n",
      "4  6.0 -1.2  4.0  1.0  1\n",
      "\n"
     ]
    },
    {
     "data": {
      "text/html": [
       "<div>\n",
       "<style scoped>\n",
       "    .dataframe tbody tr th:only-of-type {\n",
       "        vertical-align: middle;\n",
       "    }\n",
       "\n",
       "    .dataframe tbody tr th {\n",
       "        vertical-align: top;\n",
       "    }\n",
       "\n",
       "    .dataframe thead th {\n",
       "        text-align: right;\n",
       "    }\n",
       "</style>\n",
       "<table border=\"1\" class=\"dataframe\">\n",
       "  <thead>\n",
       "    <tr style=\"text-align: right;\">\n",
       "      <th></th>\n",
       "      <th>1</th>\n",
       "      <th>-1</th>\n",
       "    </tr>\n",
       "  </thead>\n",
       "  <tbody>\n",
       "    <tr>\n",
       "      <th>0</th>\n",
       "      <td>7.975071e-03</td>\n",
       "      <td>0.005679</td>\n",
       "    </tr>\n",
       "    <tr>\n",
       "      <th>1</th>\n",
       "      <td>1.142966e-03</td>\n",
       "      <td>0.002487</td>\n",
       "    </tr>\n",
       "    <tr>\n",
       "      <th>2</th>\n",
       "      <td>2.227253e-03</td>\n",
       "      <td>0.003597</td>\n",
       "    </tr>\n",
       "    <tr>\n",
       "      <th>3</th>\n",
       "      <td>2.397189e-09</td>\n",
       "      <td>0.003476</td>\n",
       "    </tr>\n",
       "    <tr>\n",
       "      <th>4</th>\n",
       "      <td>8.157332e-03</td>\n",
       "      <td>0.009449</td>\n",
       "    </tr>\n",
       "  </tbody>\n",
       "</table>\n",
       "</div>"
      ],
      "text/plain": [
       "              1        -1\n",
       "0  7.975071e-03  0.005679\n",
       "1  1.142966e-03  0.002487\n",
       "2  2.227253e-03  0.003597\n",
       "3  2.397189e-09  0.003476\n",
       "4  8.157332e-03  0.009449"
      ]
     },
     "execution_count": 116,
     "metadata": {},
     "output_type": "execute_result"
    }
   ],
   "source": [
    "sindex = 0\n",
    "eindex = 5\n",
    "test = iris_train_df.iloc[sindex:eindex]\n",
    "print(test)\n",
    "print(\"\")\n",
    "df = model.predict_probabilities(test)\n",
    "df"
   ]
  },
  {
   "cell_type": "code",
   "execution_count": 117,
   "metadata": {},
   "outputs": [
    {
     "data": {
      "text/plain": [
       "array([ 1, -1, -1, -1, -1], dtype=int64)"
      ]
     },
     "execution_count": 117,
     "metadata": {},
     "output_type": "execute_result"
    }
   ],
   "source": [
    "model.predict_labels(test)"
   ]
  },
  {
   "cell_type": "code",
   "execution_count": 118,
   "metadata": {},
   "outputs": [
    {
     "name": "stdout",
     "output_type": "stream",
     "text": [
      "Model Accuracy: 89.000%\n"
     ]
    },
    {
     "data": {
      "text/plain": [
       "89.0"
      ]
     },
     "execution_count": 118,
     "metadata": {},
     "output_type": "execute_result"
    }
   ],
   "source": [
    "model.evaluate(iris_train_df)"
   ]
  },
  {
   "cell_type": "code",
   "execution_count": 119,
   "metadata": {},
   "outputs": [
    {
     "data": {
      "text/plain": [
       "array([ 1,  1,  1, -1,  1, -1, -1, -1, -1, -1, -1, -1,  1, -1, -1, -1, -1,\n",
       "        1, -1, -1, -1, -1, -1,  1, -1, -1,  1, -1, -1, -1, -1, -1, -1,  1,\n",
       "        1,  1,  1, -1,  1, -1,  1,  1, -1, -1,  1, -1, -1,  1, -1, -1,  1,\n",
       "       -1, -1, -1, -1, -1, -1, -1,  1,  1, -1, -1, -1, -1,  1,  1, -1, -1,\n",
       "       -1, -1, -1, -1,  1, -1, -1, -1, -1, -1, -1,  1, -1,  1,  1, -1,  1,\n",
       "        1,  1, -1, -1, -1, -1, -1, -1,  1, -1, -1,  1,  1,  1,  1],\n",
       "      dtype=int64)"
      ]
     },
     "execution_count": 119,
     "metadata": {},
     "output_type": "execute_result"
    }
   ],
   "source": [
    "iris_train_df[4].to_numpy()"
   ]
  },
  {
   "cell_type": "code",
   "execution_count": 120,
   "metadata": {},
   "outputs": [
    {
     "data": {
      "text/plain": [
       "array([ 1, -1, -1, -1, -1, -1, -1, -1, -1, -1, -1, -1,  1, -1, -1, -1, -1,\n",
       "        1, -1, -1, -1, -1, -1,  1, -1, -1,  1, -1, -1, -1, -1, -1, -1,  1,\n",
       "        1,  1, -1, -1,  1, -1,  1,  1, -1, -1,  1, -1, -1,  1, -1, -1,  1,\n",
       "       -1, -1, -1, -1, -1, -1, -1,  1,  1,  1, -1, -1, -1,  1,  1, -1, -1,\n",
       "       -1, -1, -1, -1,  1, -1, -1, -1, -1, -1, -1, -1, -1,  1,  1, -1, -1,\n",
       "       -1, -1, -1, -1, -1, -1, -1, -1,  1,  1, -1,  1, -1,  1,  1],\n",
       "      dtype=int64)"
      ]
     },
     "execution_count": 120,
     "metadata": {},
     "output_type": "execute_result"
    }
   ],
   "source": [
    "model.predict_labels(iris_train_df)"
   ]
  },
  {
   "cell_type": "code",
   "execution_count": 121,
   "metadata": {},
   "outputs": [],
   "source": [
    "iris_test_df = get_dataframe(filename=\"datasets/irisTesting.txt\",header=None,delimiter=\" \")"
   ]
  },
  {
   "cell_type": "code",
   "execution_count": 122,
   "metadata": {},
   "outputs": [
    {
     "name": "stdout",
     "output_type": "stream",
     "text": [
      "Model Accuracy: 86.000%\n"
     ]
    },
    {
     "data": {
      "text/plain": [
       "86.0"
      ]
     },
     "execution_count": 122,
     "metadata": {},
     "output_type": "execute_result"
    }
   ],
   "source": [
    "model.evaluate(iris_test_df)"
   ]
  },
  {
   "cell_type": "code",
   "execution_count": 123,
   "metadata": {},
   "outputs": [
    {
     "data": {
      "text/plain": [
       "array([-1,  1, -1, -1, -1, -1, -1, -1, -1, -1,  1, -1, -1, -1,  1, -1, -1,\n",
       "        1, -1,  1, -1, -1, -1,  1, -1, -1,  1, -1, -1, -1, -1, -1, -1, -1,\n",
       "       -1, -1, -1,  1, -1,  1, -1, -1,  1, -1, -1, -1,  1, -1, -1, -1],\n",
       "      dtype=int64)"
      ]
     },
     "execution_count": 123,
     "metadata": {},
     "output_type": "execute_result"
    }
   ],
   "source": [
    "predicted = model.predict_labels(iris_test_df)\n",
    "predicted"
   ]
  },
  {
   "cell_type": "code",
   "execution_count": 124,
   "metadata": {},
   "outputs": [
    {
     "data": {
      "text/plain": [
       "array([ 1,  1, -1, -1,  1, -1, -1, -1, -1, -1,  1, -1,  1, -1,  1, -1, -1,\n",
       "       -1, -1,  1, -1, -1,  1,  1, -1, -1,  1, -1,  1, -1, -1, -1, -1, -1,\n",
       "       -1, -1, -1,  1, -1,  1, -1, -1,  1,  1, -1, -1,  1, -1, -1, -1],\n",
       "      dtype=int64)"
      ]
     },
     "execution_count": 124,
     "metadata": {},
     "output_type": "execute_result"
    }
   ],
   "source": [
    "actual = iris_test_df[4].to_numpy()\n",
    "actual"
   ]
  },
  {
   "cell_type": "code",
   "execution_count": 125,
   "metadata": {},
   "outputs": [],
   "source": [
    "def binary_confusion_matrix(actual_labels,predicted_labels):\n",
    "    \"\"\"This function compute, plots and returns a binary confusion matrix given actaul and predicted labels\n",
    "    \n",
    "    Args:\n",
    "        actual_labels(numpy.array): A numpy array that contains actual labels\n",
    "        predicted_labels(numpy.array): A numpy array that contains predicted labels\n",
    "        \n",
    "    Returns:\n",
    "        confusion matrix(numpy.array): A binary confusion  matrix \n",
    "    \"\"\"\n",
    "    \n",
    "    #initialize variables\n",
    "    true_positives = 0\n",
    "    false_negatives = 0\n",
    "    true_negatives = 0\n",
    "    false_positives = 0\n",
    "    #compute tp,fn,fp,tn\n",
    "    for i in range(0,len(actual_labels)):\n",
    "        if actual_labels[i]==1:\n",
    "            if actual_labels[i] == predicted_labels[i]: #1 = 1\n",
    "                true_positives += 1\n",
    "            else: #1 != -1\n",
    "                false_negatives += 1\n",
    "        else: \n",
    "            if actual_labels[i] == predicted_labels[i]: #0 = 0\n",
    "                true_negatives += 1\n",
    "            else: #1 != -1\n",
    "                false_positives += 1\n",
    "    #arrange tp, fn, fp, tn into an 2x2 array\n",
    "    confusion_matrix = np.squeeze(np.array([[true_positives,false_negatives],[false_positives,true_negatives]]))\n",
    "    print(\"Confusion Matrix\")\n",
    "    for i in range(0,confusion_matrix.shape[0]):\n",
    "        for j in range(0,confusion_matrix.shape[1]):\n",
    "            if ((i==0) and (j==0)):\n",
    "                print(\"Tp: \",confusion_matrix[i,j],\" \",end=\"\")\n",
    "            elif ( (i==0) and (j==1)):\n",
    "                print(\"Fn: \",confusion_matrix[i,j],\" \",end=\"\\n\")\n",
    "            elif((i==1) and (j==0)):\n",
    "                print(\"Fp: \",confusion_matrix[i,j],\" \",end=\"\")\n",
    "            else:\n",
    "                print(\"Tn: \",confusion_matrix[i,j],\" \",end=\"\\n\")\n",
    "                \n",
    "    #plot confusion matrix\n",
    "    plt.clf()\n",
    "    #plt.imshow(cm, interpolation='nearest', cmap=plt.cm.inferno)\n",
    "    plt.imshow(confusion_matrix, cmap=plt.cm.inferno)\n",
    "    classNames = ['Positive','Negative']\n",
    "    plt.title(\"Confusion Matrix\")\n",
    "    plt.ylabel('True label')\n",
    "    plt.xlabel('Predicted label')\n",
    "    tick_marks = np.arange(len(classNames))\n",
    "    plt.xticks(tick_marks, classNames, rotation=45)\n",
    "    plt.yticks(tick_marks, classNames)\n",
    "    s = [['TP','FN'], ['FP', 'TN']]\n",
    "    for i in range(2):\n",
    "        for j in range(2):\n",
    "            plt.text(j,i,str(s[i][j])+\"=\"+str(confusion_matrix[i][j]),color=\"r\",fontsize=12)\n",
    "    plt.show()\n",
    "    return confusion_matrix\n"
   ]
  },
  {
   "cell_type": "code",
   "execution_count": 126,
   "metadata": {},
   "outputs": [
    {
     "name": "stdout",
     "output_type": "stream",
     "text": [
      "Confusion Matrix\n",
      "Tp:  25  Fn:  9  \n",
      "Fp:  2  Tn:  64  \n"
     ]
    },
    {
     "data": {
      "image/png": "[encoded data removed]",
      "text/plain": [
       "<Figure size 432x288 with 1 Axes>"
      ]
     },
     "metadata": {
      "needs_background": "light"
     },
     "output_type": "display_data"
    },
    {
     "data": {
      "text/plain": [
       "array([[25,  9],\n",
       "       [ 2, 64]])"
      ]
     },
     "execution_count": 126,
     "metadata": {},
     "output_type": "execute_result"
    }
   ],
   "source": [
    "binary_confusion_matrix(iris_train_df[4].to_numpy(),model.predict_labels(iris_train_df))"
   ]
  },
  {
   "cell_type": "code",
   "execution_count": 127,
   "metadata": {},
   "outputs": [],
   "source": [
    "def binary_aprf(actual_labels,predicted_labels):\n",
    "    \"\"\"This function computes and displays the accuray, precision, recall and f-measure given actual and predicted labels\n",
    "    \n",
    "    Args:\n",
    "        actual_labels(numpy.array): A numpy array that contains actual labels\n",
    "        predicted_labels(numpy.array): A numpy array that contains predicted labels\n",
    "        \n",
    "    Returns:\n",
    "        None\n",
    "    \"\"\"\n",
    "    #initialize variables\n",
    "    true_positives = 0\n",
    "    false_negatives = 0\n",
    "    true_negatives = 0\n",
    "    false_positives = 0\n",
    "    \n",
    "    #compute tp,fn,fp,tn\n",
    "    for i in range(0,len(actual_labels)):\n",
    "        if actual_labels[i]==1:\n",
    "            if actual_labels[i] == predicted_labels[i]: #1 = 1\n",
    "                true_positives += 1\n",
    "            else: #1 != -1\n",
    "                false_negatives += 1\n",
    "        else: \n",
    "            if actual_labels[i] == predicted_labels[i]: #0 = 0\n",
    "                true_negatives += 1\n",
    "            else: #1 != -1\n",
    "                false_positives += 1\n",
    "    #compute metrics            \n",
    "    accuracy = ((true_positives + true_negatives) *1.0) / (1.0 * (true_positives + true_negatives + false_negatives + false_positives) )\n",
    "    precision = (true_positives * 1.0) / ( (true_positives + false_positives)* 1.0)\n",
    "    recall = (true_positives * 1.0) / ( (true_positives + false_negatives)* 1.0)\n",
    "    f_measure = (2.0 * true_positives) / (1.0 * ( (2.0 * true_positives) + false_positives + false_negatives ) )\n",
    "    \n",
    "    #display metrics\n",
    "    print(\"Accuracy: %0.2f\"%accuracy)\n",
    "    print(\"Precision: %0.2f\"%precision)\n",
    "    print(\"Recall: %0.2f\"%recall)\n",
    "    print(\"F-Measure: %0.2f\"%f_measure)"
   ]
  },
  {
   "cell_type": "code",
   "execution_count": 128,
   "metadata": {},
   "outputs": [
    {
     "name": "stdout",
     "output_type": "stream",
     "text": [
      "Accuracy: 0.89\n",
      "Precision: 0.93\n",
      "Recall: 0.74\n",
      "F-Measure: 0.82\n"
     ]
    }
   ],
   "source": [
    "binary_aprf(iris_train_df[4].to_numpy(),model.predict_labels(iris_train_df))"
   ]
  },
  {
   "cell_type": "code",
   "execution_count": 129,
   "metadata": {},
   "outputs": [
    {
     "name": "stdout",
     "output_type": "stream",
     "text": [
      "Accuracy: 0.86\n",
      "Precision: 0.91\n",
      "Recall: 0.62\n",
      "F-Measure: 0.74\n"
     ]
    }
   ],
   "source": [
    "binary_aprf(iris_test_df[4].to_numpy(),model.predict_labels(iris_test_df))"
   ]
  },
  {
   "cell_type": "markdown",
   "metadata": {},
   "source": [
    "## Implementation of Categorical Naive Bayes Algorithm"
   ]
  },
  {
   "cell_type": "code",
   "execution_count": 130,
   "metadata": {},
   "outputs": [
    {
     "data": {
      "text/html": [
       "<div>\n",
       "<style scoped>\n",
       "    .dataframe tbody tr th:only-of-type {\n",
       "        vertical-align: middle;\n",
       "    }\n",
       "\n",
       "    .dataframe tbody tr th {\n",
       "        vertical-align: top;\n",
       "    }\n",
       "\n",
       "    .dataframe thead th {\n",
       "        text-align: right;\n",
       "    }\n",
       "</style>\n",
       "<table border=\"1\" class=\"dataframe\">\n",
       "  <thead>\n",
       "    <tr style=\"text-align: right;\">\n",
       "      <th></th>\n",
       "      <th>0</th>\n",
       "      <th>1</th>\n",
       "      <th>2</th>\n",
       "      <th>3</th>\n",
       "      <th>4</th>\n",
       "    </tr>\n",
       "  </thead>\n",
       "  <tbody>\n",
       "    <tr>\n",
       "      <th>0</th>\n",
       "      <td>1</td>\n",
       "      <td>3</td>\n",
       "      <td>2</td>\n",
       "      <td>1</td>\n",
       "      <td>-1</td>\n",
       "    </tr>\n",
       "    <tr>\n",
       "      <th>1</th>\n",
       "      <td>1</td>\n",
       "      <td>3</td>\n",
       "      <td>2</td>\n",
       "      <td>2</td>\n",
       "      <td>-1</td>\n",
       "    </tr>\n",
       "    <tr>\n",
       "      <th>2</th>\n",
       "      <td>2</td>\n",
       "      <td>3</td>\n",
       "      <td>2</td>\n",
       "      <td>1</td>\n",
       "      <td>1</td>\n",
       "    </tr>\n",
       "    <tr>\n",
       "      <th>3</th>\n",
       "      <td>3</td>\n",
       "      <td>2</td>\n",
       "      <td>2</td>\n",
       "      <td>1</td>\n",
       "      <td>1</td>\n",
       "    </tr>\n",
       "    <tr>\n",
       "      <th>4</th>\n",
       "      <td>3</td>\n",
       "      <td>1</td>\n",
       "      <td>1</td>\n",
       "      <td>1</td>\n",
       "      <td>1</td>\n",
       "    </tr>\n",
       "    <tr>\n",
       "      <th>5</th>\n",
       "      <td>3</td>\n",
       "      <td>1</td>\n",
       "      <td>1</td>\n",
       "      <td>2</td>\n",
       "      <td>-1</td>\n",
       "    </tr>\n",
       "    <tr>\n",
       "      <th>6</th>\n",
       "      <td>2</td>\n",
       "      <td>1</td>\n",
       "      <td>1</td>\n",
       "      <td>2</td>\n",
       "      <td>1</td>\n",
       "    </tr>\n",
       "    <tr>\n",
       "      <th>7</th>\n",
       "      <td>1</td>\n",
       "      <td>2</td>\n",
       "      <td>2</td>\n",
       "      <td>1</td>\n",
       "      <td>-1</td>\n",
       "    </tr>\n",
       "    <tr>\n",
       "      <th>8</th>\n",
       "      <td>1</td>\n",
       "      <td>1</td>\n",
       "      <td>1</td>\n",
       "      <td>1</td>\n",
       "      <td>1</td>\n",
       "    </tr>\n",
       "    <tr>\n",
       "      <th>9</th>\n",
       "      <td>3</td>\n",
       "      <td>2</td>\n",
       "      <td>1</td>\n",
       "      <td>1</td>\n",
       "      <td>1</td>\n",
       "    </tr>\n",
       "    <tr>\n",
       "      <th>10</th>\n",
       "      <td>1</td>\n",
       "      <td>2</td>\n",
       "      <td>1</td>\n",
       "      <td>2</td>\n",
       "      <td>1</td>\n",
       "    </tr>\n",
       "    <tr>\n",
       "      <th>11</th>\n",
       "      <td>2</td>\n",
       "      <td>2</td>\n",
       "      <td>2</td>\n",
       "      <td>2</td>\n",
       "      <td>1</td>\n",
       "    </tr>\n",
       "    <tr>\n",
       "      <th>12</th>\n",
       "      <td>2</td>\n",
       "      <td>3</td>\n",
       "      <td>1</td>\n",
       "      <td>1</td>\n",
       "      <td>1</td>\n",
       "    </tr>\n",
       "    <tr>\n",
       "      <th>13</th>\n",
       "      <td>3</td>\n",
       "      <td>1</td>\n",
       "      <td>2</td>\n",
       "      <td>2</td>\n",
       "      <td>-1</td>\n",
       "    </tr>\n",
       "  </tbody>\n",
       "</table>\n",
       "</div>"
      ],
      "text/plain": [
       "    0  1  2  3  4\n",
       "0   1  3  2  1 -1\n",
       "1   1  3  2  2 -1\n",
       "2   2  3  2  1  1\n",
       "3   3  2  2  1  1\n",
       "4   3  1  1  1  1\n",
       "5   3  1  1  2 -1\n",
       "6   2  1  1  2  1\n",
       "7   1  2  2  1 -1\n",
       "8   1  1  1  1  1\n",
       "9   3  2  1  1  1\n",
       "10  1  2  1  2  1\n",
       "11  2  2  2  2  1\n",
       "12  2  3  1  1  1\n",
       "13  3  1  2  2 -1"
      ]
     },
     "execution_count": 130,
     "metadata": {},
     "output_type": "execute_result"
    }
   ],
   "source": [
    "buy_train_df = get_dataframe(filename=\"datasets/buyTraining.txt\",header=None,delimiter=\" \")\n",
    "buy_train_df"
   ]
  },
  {
   "cell_type": "code",
   "execution_count": 131,
   "metadata": {},
   "outputs": [],
   "source": [
    "class CategoricalNaiveBayes():\n",
    "    \"\"\" This class is an implementation of Naive Bayes Algorithm for Categorial Data.\n",
    "    \n",
    "    Attributes:\n",
    "        __unique_labels (list): A private classs member that contains the categories (labels) of the train data\n",
    "        __label_frequencies(dictionary): A private class member that contains the frequencies of category labels,\n",
    "        __category_frequencies(dictionary): A private class member that contains the features of feature-value given class\n",
    "        __prior_probabilties(dictionary): A private class member that contains the prior probabilties for all category labels\n",
    "        __posterior_probabilities(dictionary): A private class memebr that contains the feature-value given label probabilitiy for all feature-values\n",
    "        __featurewise_unique_count(dictionary): A private class member that contains count of unique value per feature\n",
    "    \"\"\"\n",
    "    def __init__(self):\n",
    "        \"\"\"This class method is the default constructor. This initializes all private class memebers\n",
    "        \"\"\"\n",
    "        self.__unique_labels = ()\n",
    "        self.__label_frequencies = {}\n",
    "        self.__category_frequencies = {}\n",
    "        self.__prior_probabilities = {}\n",
    "        self.__posterior_probabilities = {}\n",
    "        self.__featurewise_unique_count = {}\n",
    "        self.__laplacian_smoothing_constant = 1\n",
    "        \n",
    "    \n",
    "    def print_parameters(self):\n",
    "        \"\"\"This class method prints the trained model prameters for Categorial Naive Bayes\n",
    "        \"\"\"\n",
    "        print(\"Classes: \", self.__unique_labels) #print unique labels\n",
    "        print(\"\")\n",
    "        print(\"Feature Wise Unique Count: \", self.__featurewise_unique_count) #print feature wise unique count\n",
    "        print(\"\")\n",
    "        print(\"Class Frequencies: \",self.__label_frequencies) #print label frequencies\n",
    "        print(\"\")\n",
    "        print(\"Prior Probabilities: \",self.__prior_probabilities) #print prior probabilties\n",
    "        print(\"\")\n",
    "        print(\"Category Frequencies: \") #print categorical and posterior proabilities frequencies\n",
    "        for key_pair in self.__category_frequencies.keys():\n",
    "            print(key_pair,\" : \",self.__category_frequencies[key_pair])\n",
    "        print(\"\")\n",
    "        print(\"Laplacian Smoothing Constant: \", self.__laplacian_smoothing_constant)\n",
    "        print(\"\")\n",
    "        print(\"Posterior Probabilties With Laplacian Smoothing: \") #print posterior probabilties\n",
    "        for key_pair in self.__posterior_probabilities.keys():\n",
    "            print(key_pair,\" : \",self.__posterior_probabilities[key_pair])\n",
    "\n",
    "\n",
    "    def fit(self,train_set_df):\n",
    "        \"\"\" THis function computes the parameters neeeded to calculate categorical naive bayes probabilties.\n",
    "        \n",
    "        Args:\n",
    "            train_data_df(pd.DataFrame): the trainning data for Gaussian Naive Bayes\n",
    "            \n",
    "        Returns:\n",
    "            None\n",
    "        \"\"\"\n",
    "        #convert from datafram to numpy\n",
    "        feature_matrix= train_set_df.to_numpy()\n",
    "        \n",
    "        #compute label frequencies and prior probabilities\n",
    "        label_column = list(train_set_df.columns)\n",
    "        label_column = label_column[len(label_column)-1]\n",
    "        self.__unique_labels = list(set(train_set_df[label_column])) # get list of class labels\n",
    "        \n",
    "        #compute label frequencies and prior probabilities\n",
    "        total_labels = len(train_set_df[label_column]) #total count of labels \n",
    "        for label in self.__unique_labels:\n",
    "            freq = len(buy_train_df[buy_train_df[label_column]==label][label_column])\n",
    "            self.__label_frequencies[label] = freq #compute label frequency\n",
    "            self.__prior_probabilities[label] = (1.0 * freq) / (total_labels * 1.0) #compute prior probabiity\n",
    "        \n",
    "        #create a hastable that has counts of feature-value given class\n",
    "        for i in range(0,feature_matrix.shape[0]):\n",
    "            for j in range(0,feature_matrix.shape[1]-1):\n",
    "                attribute = j \n",
    "                category = feature_matrix[i,j]\n",
    "                label = feature_matrix[i,feature_matrix.shape[1]-1]\n",
    "                key_pair = (attribute,category,label)\n",
    "                if key_pair not in self.__category_frequencies:\n",
    "                    self.__category_frequencies[key_pair] = 1\n",
    "                else:\n",
    "                    self.__category_frequencies[key_pair] += 1\n",
    "                    \n",
    "        #count number of unique values per feature, as required by laplacian smoothing\n",
    "        for col in range(0,feature_matrix.shape[1]-1):\n",
    "            self.__featurewise_unique_count[col] = len(set(feature_matrix[:,col]))\n",
    "        \n",
    "        #compute posterior likelihood and include laplacian smoothing\n",
    "        for key_pair in self.__category_frequencies.keys():\n",
    "            for label in self.__unique_labels:\n",
    "                if label == key_pair[2]: #if categorical frequencies have already been calculate then \n",
    "                    posterior_prob_numerator = self.__category_frequencies[key_pair] + self.__laplacian_smoothing_constant #numerator of posterior probability\n",
    "                    posterior_prob_denominator = self.__label_frequencies[key_pair[2]]+ self.__featurewise_unique_count[key_pair[0]] #denominator of posterior probability\n",
    "                    posterior_prob = (1.0 * posterior_prob_numerator)  / (1.0 * posterior_prob_denominator) #compute posterior probabilitiy\n",
    "                    self.__posterior_probabilities[key_pair] = posterior_prob #save the posteriro probability\n",
    "                    \n",
    "                elif (key_pair[0],key_pair[1],label) not in self.__posterior_probabilities.keys(): #else create new key to prevent zero probabilties\n",
    "                    posterior_prob_numerator = 0 + self.__laplacian_smoothing_constant #numerator of posterior probability\n",
    "                    posterior_prob_denominator = self.__label_frequencies[label]+ self.__featurewise_unique_count[key_pair[0]] #denominator of posterior probability\n",
    "                    posterior_prob = (1.0 * posterior_prob_numerator)  / (1.0 * posterior_prob_denominator) #compute posterior probabilitiy\n",
    "                    self.__posterior_probabilities[(key_pair[0],key_pair[1],label)] = posterior_prob #save the posteriro probability\n",
    "\n",
    "                    \n",
    "    def predict_probabilities(self,test_set_df):\n",
    "        \"\"\"This class method predits the probabiilities of given test data bsed of the model parameters calculate from trainning data.\n",
    "        \n",
    "        Args:\n",
    "            test_set_df(pandas.DataFrame): A Dataframe that contains the testing set whose probability is to be predicted\n",
    "            \n",
    "        Returns:\n",
    "            predicted_probabilities(pandas.DataFrame): A Dataframe that contains the label wise probability for test set\n",
    "        \"\"\"\n",
    "        \n",
    "        #get column\n",
    "        label_column = list(test_set_df.columns)\n",
    "        label_column = label_column[len(label_column)-1]\n",
    "        feature_matrix = test_set_df.to_numpy() #convert to numpy\n",
    "        predicted_probailities = [] #predcited probabilities\n",
    "        \n",
    "        #compute probablities for all test set\n",
    "        for i in range(0,feature_matrix.shape[0]):\n",
    "            row_probs = np.zeros(len(self.__unique_labels))\n",
    "            for j in range(0,feature_matrix.shape[1]-1):\n",
    "                attribute = j\n",
    "                category = feature_matrix[i,j]\n",
    "                label_wise_prob = []\n",
    "                for k in range(0,len(self.__unique_labels)):\n",
    "                    key_pair = (attribute,category,self.__unique_labels[k])\n",
    "                    posterior_prob = self.__posterior_probabilities[key_pair]\n",
    "                    if j == 0:\n",
    "                        row_probs[k] = posterior_prob * self.__prior_probabilities[self.__unique_labels[k]]\n",
    "                    else:\n",
    "                        row_probs[k] *= posterior_prob\n",
    "            predicted_probailities.append(row_probs)\n",
    "            \n",
    "        predicted_probailities = np.squeeze(np.array(predicted_probailities))\n",
    "        predicted_probailities = pd.DataFrame(predicted_probailities) #convert to dataframe\n",
    "        predicted_probailities.columns = self.__unique_labels\n",
    "        return predicted_probailities\n",
    "        \n",
    "        \n",
    "    def predict_labels(self,test_set_df):\n",
    "        \"\"\" This class method predicts the category label for given test set\n",
    "        \n",
    "        Args:\n",
    "            test_set_df(pandas.DataFrame): A Dataframe that contains the testing set whose label is to be predicted\n",
    "            \n",
    "        Returns:\n",
    "            predicted_labels(numpy.array): A numpy array that contains the predicted labels for given test data\n",
    "        \"\"\"\n",
    "        probabilities_df = self.predict_probabilities(test_set_df)\n",
    "        labels_list = probabilities_df.columns\n",
    "        probabilities_df = probabilities_df.to_numpy()\n",
    "        max_index = np.argmax(probabilities_df,axis=1) #get maximum of each row, axis= 1 horizontal, max each row\n",
    "        predicted_labels = np.array(labels_list[max_index])\n",
    "        return predicted_labels\n",
    "    \n",
    "    def evaluate(self,test_set_df):\n",
    "        \"\"\" This class method evalautes the model performace for given test set, the evaluation metric is accuracy\n",
    "        \n",
    "        Args:\n",
    "            test_set_df(pandas.DataFrame): A Dataframe that contains the testing set whose label is to be predicted\n",
    "            \n",
    "        Returns:\n",
    "            accuracy(float): THe percentage accuracy of model's predictions\n",
    "        \"\"\"    \n",
    "        column_names = test_set_df.columns\n",
    "        label_column = len(column_names) - 1\n",
    "        actual_labels = test_set_df[label_column].to_numpy()\n",
    "        predicted_labels = self.predict_labels(test_set_df)\n",
    "        #print(\"1\",len(predicted_labels[predicted_labels==1]))\n",
    "        #print(\"-1\",len(predicted_labels[predicted_labels==-1]))\n",
    "        agreement =  ( (1.0 * sum(actual_labels == predicted_labels)) / (1.0 * len(predicted_labels)) ) * 100\n",
    "        print(\"Model Accuracy: %0.3f%%\"%agreement)\n",
    "        return agreement"
   ]
  },
  {
   "cell_type": "code",
   "execution_count": 132,
   "metadata": {},
   "outputs": [],
   "source": [
    "cat_model = CategoricalNaiveBayes()"
   ]
  },
  {
   "cell_type": "code",
   "execution_count": 133,
   "metadata": {},
   "outputs": [],
   "source": [
    "cat_model.fit(buy_train_df)"
   ]
  },
  {
   "cell_type": "code",
   "execution_count": 134,
   "metadata": {},
   "outputs": [
    {
     "name": "stdout",
     "output_type": "stream",
     "text": [
      "Classes:  [1, -1]\n",
      "\n",
      "Feature Wise Unique Count:  {0: 3, 1: 3, 2: 2, 3: 2}\n",
      "\n",
      "Class Frequencies:  {1: 9, -1: 5}\n",
      "\n",
      "Prior Probabilities:  {1: 0.6428571428571429, -1: 0.35714285714285715}\n",
      "\n",
      "Category Frequencies: \n",
      "(0, 1, -1)  :  3\n",
      "(1, 3, -1)  :  2\n",
      "(2, 2, -1)  :  4\n",
      "(3, 1, -1)  :  2\n",
      "(3, 2, -1)  :  3\n",
      "(0, 2, 1)  :  4\n",
      "(1, 3, 1)  :  2\n",
      "(2, 2, 1)  :  3\n",
      "(3, 1, 1)  :  6\n",
      "(0, 3, 1)  :  3\n",
      "(1, 2, 1)  :  4\n",
      "(1, 1, 1)  :  3\n",
      "(2, 1, 1)  :  6\n",
      "(0, 3, -1)  :  2\n",
      "(1, 1, -1)  :  2\n",
      "(2, 1, -1)  :  1\n",
      "(3, 2, 1)  :  3\n",
      "(1, 2, -1)  :  1\n",
      "(0, 1, 1)  :  2\n",
      "\n",
      "Laplacian Smoothing Constant:  1\n",
      "\n",
      "Posterior Probabilties With Laplacian Smoothing: \n",
      "(0, 1, 1)  :  0.25\n",
      "(0, 1, -1)  :  0.5\n",
      "(1, 3, 1)  :  0.25\n",
      "(1, 3, -1)  :  0.375\n",
      "(2, 2, 1)  :  0.36363636363636365\n",
      "(2, 2, -1)  :  0.7142857142857143\n",
      "(3, 1, 1)  :  0.6363636363636364\n",
      "(3, 1, -1)  :  0.42857142857142855\n",
      "(3, 2, 1)  :  0.36363636363636365\n",
      "(3, 2, -1)  :  0.5714285714285714\n",
      "(0, 2, 1)  :  0.4166666666666667\n",
      "(0, 2, -1)  :  0.125\n",
      "(0, 3, 1)  :  0.3333333333333333\n",
      "(0, 3, -1)  :  0.375\n",
      "(1, 2, 1)  :  0.4166666666666667\n",
      "(1, 2, -1)  :  0.25\n",
      "(1, 1, 1)  :  0.3333333333333333\n",
      "(1, 1, -1)  :  0.375\n",
      "(2, 1, 1)  :  0.6363636363636364\n",
      "(2, 1, -1)  :  0.2857142857142857\n"
     ]
    }
   ],
   "source": [
    "cat_model.print_parameters()"
   ]
  },
  {
   "cell_type": "code",
   "execution_count": 135,
   "metadata": {},
   "outputs": [
    {
     "data": {
      "text/html": [
       "<div>\n",
       "<style scoped>\n",
       "    .dataframe tbody tr th:only-of-type {\n",
       "        vertical-align: middle;\n",
       "    }\n",
       "\n",
       "    .dataframe tbody tr th {\n",
       "        vertical-align: top;\n",
       "    }\n",
       "\n",
       "    .dataframe thead th {\n",
       "        text-align: right;\n",
       "    }\n",
       "</style>\n",
       "<table border=\"1\" class=\"dataframe\">\n",
       "  <thead>\n",
       "    <tr style=\"text-align: right;\">\n",
       "      <th></th>\n",
       "      <th>0</th>\n",
       "      <th>1</th>\n",
       "      <th>2</th>\n",
       "      <th>3</th>\n",
       "      <th>4</th>\n",
       "    </tr>\n",
       "  </thead>\n",
       "  <tbody>\n",
       "    <tr>\n",
       "      <th>0</th>\n",
       "      <td>1</td>\n",
       "      <td>3</td>\n",
       "      <td>2</td>\n",
       "      <td>1</td>\n",
       "      <td>-1</td>\n",
       "    </tr>\n",
       "    <tr>\n",
       "      <th>1</th>\n",
       "      <td>1</td>\n",
       "      <td>3</td>\n",
       "      <td>2</td>\n",
       "      <td>2</td>\n",
       "      <td>-1</td>\n",
       "    </tr>\n",
       "    <tr>\n",
       "      <th>2</th>\n",
       "      <td>2</td>\n",
       "      <td>3</td>\n",
       "      <td>2</td>\n",
       "      <td>1</td>\n",
       "      <td>1</td>\n",
       "    </tr>\n",
       "    <tr>\n",
       "      <th>3</th>\n",
       "      <td>3</td>\n",
       "      <td>2</td>\n",
       "      <td>2</td>\n",
       "      <td>1</td>\n",
       "      <td>1</td>\n",
       "    </tr>\n",
       "  </tbody>\n",
       "</table>\n",
       "</div>"
      ],
      "text/plain": [
       "   0  1  2  3  4\n",
       "0  1  3  2  1 -1\n",
       "1  1  3  2  2 -1\n",
       "2  2  3  2  1  1\n",
       "3  3  2  2  1  1"
      ]
     },
     "execution_count": 135,
     "metadata": {},
     "output_type": "execute_result"
    }
   ],
   "source": [
    "buy_train_df.iloc[0:4]"
   ]
  },
  {
   "cell_type": "code",
   "execution_count": 136,
   "metadata": {},
   "outputs": [
    {
     "data": {
      "text/html": [
       "<div>\n",
       "<style scoped>\n",
       "    .dataframe tbody tr th:only-of-type {\n",
       "        vertical-align: middle;\n",
       "    }\n",
       "\n",
       "    .dataframe tbody tr th {\n",
       "        vertical-align: top;\n",
       "    }\n",
       "\n",
       "    .dataframe thead th {\n",
       "        text-align: right;\n",
       "    }\n",
       "</style>\n",
       "<table border=\"1\" class=\"dataframe\">\n",
       "  <thead>\n",
       "    <tr style=\"text-align: right;\">\n",
       "      <th></th>\n",
       "      <th>1</th>\n",
       "      <th>-1</th>\n",
       "    </tr>\n",
       "  </thead>\n",
       "  <tbody>\n",
       "    <tr>\n",
       "      <th>0</th>\n",
       "      <td>0.009298</td>\n",
       "      <td>0.020499</td>\n",
       "    </tr>\n",
       "    <tr>\n",
       "      <th>1</th>\n",
       "      <td>0.005313</td>\n",
       "      <td>0.027332</td>\n",
       "    </tr>\n",
       "    <tr>\n",
       "      <th>2</th>\n",
       "      <td>0.015496</td>\n",
       "      <td>0.005125</td>\n",
       "    </tr>\n",
       "    <tr>\n",
       "      <th>3</th>\n",
       "      <td>0.020661</td>\n",
       "      <td>0.010250</td>\n",
       "    </tr>\n",
       "  </tbody>\n",
       "</table>\n",
       "</div>"
      ],
      "text/plain": [
       "          1        -1\n",
       "0  0.009298  0.020499\n",
       "1  0.005313  0.027332\n",
       "2  0.015496  0.005125\n",
       "3  0.020661  0.010250"
      ]
     },
     "execution_count": 136,
     "metadata": {},
     "output_type": "execute_result"
    }
   ],
   "source": [
    "cat_model.predict_probabilities(buy_train_df.iloc[0:4])"
   ]
  },
  {
   "cell_type": "code",
   "execution_count": 137,
   "metadata": {},
   "outputs": [
    {
     "name": "stdout",
     "output_type": "stream",
     "text": [
      "Model Accuracy: 85.714%\n"
     ]
    },
    {
     "data": {
      "text/plain": [
       "85.71428571428571"
      ]
     },
     "execution_count": 137,
     "metadata": {},
     "output_type": "execute_result"
    }
   ],
   "source": [
    "cat_model.evaluate(buy_train_df)"
   ]
  },
  {
   "cell_type": "code",
   "execution_count": 138,
   "metadata": {},
   "outputs": [
    {
     "data": {
      "text/html": [
       "<div>\n",
       "<style scoped>\n",
       "    .dataframe tbody tr th:only-of-type {\n",
       "        vertical-align: middle;\n",
       "    }\n",
       "\n",
       "    .dataframe tbody tr th {\n",
       "        vertical-align: top;\n",
       "    }\n",
       "\n",
       "    .dataframe thead th {\n",
       "        text-align: right;\n",
       "    }\n",
       "</style>\n",
       "<table border=\"1\" class=\"dataframe\">\n",
       "  <thead>\n",
       "    <tr style=\"text-align: right;\">\n",
       "      <th></th>\n",
       "      <th>0</th>\n",
       "      <th>1</th>\n",
       "      <th>2</th>\n",
       "      <th>3</th>\n",
       "      <th>4</th>\n",
       "    </tr>\n",
       "  </thead>\n",
       "  <tbody>\n",
       "    <tr>\n",
       "      <th>0</th>\n",
       "      <td>3</td>\n",
       "      <td>2</td>\n",
       "      <td>1</td>\n",
       "      <td>1</td>\n",
       "      <td>-1</td>\n",
       "    </tr>\n",
       "    <tr>\n",
       "      <th>1</th>\n",
       "      <td>3</td>\n",
       "      <td>2</td>\n",
       "      <td>1</td>\n",
       "      <td>2</td>\n",
       "      <td>1</td>\n",
       "    </tr>\n",
       "    <tr>\n",
       "      <th>2</th>\n",
       "      <td>1</td>\n",
       "      <td>2</td>\n",
       "      <td>2</td>\n",
       "      <td>2</td>\n",
       "      <td>-1</td>\n",
       "    </tr>\n",
       "    <tr>\n",
       "      <th>3</th>\n",
       "      <td>1</td>\n",
       "      <td>1</td>\n",
       "      <td>1</td>\n",
       "      <td>1</td>\n",
       "      <td>1</td>\n",
       "    </tr>\n",
       "  </tbody>\n",
       "</table>\n",
       "</div>"
      ],
      "text/plain": [
       "   0  1  2  3  4\n",
       "0  3  2  1  1 -1\n",
       "1  3  2  1  2  1\n",
       "2  1  2  2  2 -1\n",
       "3  1  1  1  1  1"
      ]
     },
     "execution_count": 138,
     "metadata": {},
     "output_type": "execute_result"
    }
   ],
   "source": [
    "buy_test_df = get_dataframe(filename=\"datasets/buyTesting.txt\",header=None,delimiter=\" \")\n",
    "buy_test_df"
   ]
  },
  {
   "cell_type": "code",
   "execution_count": 139,
   "metadata": {},
   "outputs": [
    {
     "data": {
      "text/html": [
       "<div>\n",
       "<style scoped>\n",
       "    .dataframe tbody tr th:only-of-type {\n",
       "        vertical-align: middle;\n",
       "    }\n",
       "\n",
       "    .dataframe tbody tr th {\n",
       "        vertical-align: top;\n",
       "    }\n",
       "\n",
       "    .dataframe thead th {\n",
       "        text-align: right;\n",
       "    }\n",
       "</style>\n",
       "<table border=\"1\" class=\"dataframe\">\n",
       "  <thead>\n",
       "    <tr style=\"text-align: right;\">\n",
       "      <th></th>\n",
       "      <th>1</th>\n",
       "      <th>-1</th>\n",
       "    </tr>\n",
       "  </thead>\n",
       "  <tbody>\n",
       "    <tr>\n",
       "      <th>0</th>\n",
       "      <td>0.036157</td>\n",
       "      <td>0.004100</td>\n",
       "    </tr>\n",
       "    <tr>\n",
       "      <th>1</th>\n",
       "      <td>0.020661</td>\n",
       "      <td>0.005466</td>\n",
       "    </tr>\n",
       "    <tr>\n",
       "      <th>2</th>\n",
       "      <td>0.008855</td>\n",
       "      <td>0.018222</td>\n",
       "    </tr>\n",
       "    <tr>\n",
       "      <th>3</th>\n",
       "      <td>0.021694</td>\n",
       "      <td>0.008200</td>\n",
       "    </tr>\n",
       "  </tbody>\n",
       "</table>\n",
       "</div>"
      ],
      "text/plain": [
       "          1        -1\n",
       "0  0.036157  0.004100\n",
       "1  0.020661  0.005466\n",
       "2  0.008855  0.018222\n",
       "3  0.021694  0.008200"
      ]
     },
     "execution_count": 139,
     "metadata": {},
     "output_type": "execute_result"
    }
   ],
   "source": [
    "cat_model.predict_probabilities(buy_test_df)"
   ]
  },
  {
   "cell_type": "code",
   "execution_count": 140,
   "metadata": {},
   "outputs": [
    {
     "data": {
      "text/plain": [
       "array([ 1,  1, -1,  1], dtype=int64)"
      ]
     },
     "execution_count": 140,
     "metadata": {},
     "output_type": "execute_result"
    }
   ],
   "source": [
    "cat_model.predict_labels(buy_test_df)"
   ]
  },
  {
   "cell_type": "code",
   "execution_count": 141,
   "metadata": {},
   "outputs": [
    {
     "name": "stdout",
     "output_type": "stream",
     "text": [
      "Confusion Matrix\n",
      "Tp:  9  Fn:  0  \n",
      "Fp:  2  Tn:  3  \n"
     ]
    },
    {
     "data": {
      "image/png": "[encoded data removed]",
      "text/plain": [
       "<Figure size 432x288 with 1 Axes>"
      ]
     },
     "metadata": {
      "needs_background": "light"
     },
     "output_type": "display_data"
    },
    {
     "data": {
      "text/plain": [
       "array([[9, 0],\n",
       "       [2, 3]])"
      ]
     },
     "execution_count": 141,
     "metadata": {},
     "output_type": "execute_result"
    }
   ],
   "source": [
    "binary_confusion_matrix(buy_train_df[4].to_numpy(),cat_model.predict_labels(buy_train_df))"
   ]
  },
  {
   "cell_type": "code",
   "execution_count": 142,
   "metadata": {},
   "outputs": [
    {
     "name": "stdout",
     "output_type": "stream",
     "text": [
      "Confusion Matrix\n",
      "Tp:  2  Fn:  0  \n",
      "Fp:  1  Tn:  1  \n"
     ]
    },
    {
     "data": {
      "image/png": "[encoded data removed]",
      "text/plain": [
       "<Figure size 432x288 with 1 Axes>"
      ]
     },
     "metadata": {
      "needs_background": "light"
     },
     "output_type": "display_data"
    },
    {
     "data": {
      "text/plain": [
       "array([[2, 0],\n",
       "       [1, 1]])"
      ]
     },
     "execution_count": 142,
     "metadata": {},
     "output_type": "execute_result"
    }
   ],
   "source": [
    "binary_confusion_matrix(buy_test_df[4].to_numpy(),cat_model.predict_labels(buy_test_df))"
   ]
  },
  {
   "cell_type": "code",
   "execution_count": 143,
   "metadata": {},
   "outputs": [
    {
     "name": "stdout",
     "output_type": "stream",
     "text": [
      "Accuracy: 0.86\n",
      "Precision: 0.82\n",
      "Recall: 1.00\n",
      "F-Measure: 0.90\n"
     ]
    }
   ],
   "source": [
    "binary_aprf(buy_train_df[4].to_numpy(),cat_model.predict_labels(buy_train_df))"
   ]
  },
  {
   "cell_type": "code",
   "execution_count": 148,
   "metadata": {},
   "outputs": [
    {
     "name": "stdout",
     "output_type": "stream",
     "text": [
      "Accuracy: 0.75\n",
      "Precision: 0.67\n",
      "Recall: 1.00\n",
      "F-Measure: 0.80\n"
     ]
    }
   ],
   "source": [
    "binary_aprf(buy_test_df[4].to_numpy(),cat_model.predict_labels(buy_test_df))"
   ]
  },
  {
   "cell_type": "code",
   "execution_count": 151,
   "metadata": {},
   "outputs": [],
   "source": [
    "iris_pc_train_df = get_dataframe(filename=\"datasets/irisPCTraining.txt\",header=None,delimiter=\" \")\n",
    "iris_pc_test_df = get_dataframe(filename=\"datasets/irisPCTesting.txt\",header=None,delimiter=\" \")"
   ]
  },
  {
   "cell_type": "code",
   "execution_count": 152,
   "metadata": {},
   "outputs": [],
   "source": [
    "model = GaussianNaiveBayes()"
   ]
  },
  {
   "cell_type": "code",
   "execution_count": 153,
   "metadata": {},
   "outputs": [],
   "source": [
    "model.fit(iris_pc_train_df)"
   ]
  },
  {
   "cell_type": "code",
   "execution_count": 154,
   "metadata": {},
   "outputs": [
    {
     "data": {
      "text/plain": [
       "array([-1, -1, -1, -1,  1, -1, -1, -1, -1, -1,  1, -1,  1, -1,  1, -1, -1,\n",
       "       -1, -1, -1, -1, -1,  1, -1, -1, -1,  1, -1,  1, -1, -1, -1, -1, -1,\n",
       "       -1, -1, -1, -1, -1,  1, -1, -1,  1, -1, -1, -1,  1, -1, -1, -1],\n",
       "      dtype=int64)"
      ]
     },
     "execution_count": 154,
     "metadata": {},
     "output_type": "execute_result"
    }
   ],
   "source": [
    "model.predict_labels(iris_pc_test_df)"
   ]
  },
  {
   "cell_type": "code",
   "execution_count": 156,
   "metadata": {},
   "outputs": [
    {
     "name": "stdout",
     "output_type": "stream",
     "text": [
      "Accuracy: 0.89\n",
      "Precision: 0.90\n",
      "Recall: 0.76\n",
      "F-Measure: 0.83\n"
     ]
    }
   ],
   "source": [
    "binary_aprf(iris_pc_train_df[2].to_numpy(),model.predict_labels(iris_pc_train_df))"
   ]
  },
  {
   "cell_type": "code",
   "execution_count": 157,
   "metadata": {},
   "outputs": [
    {
     "name": "stdout",
     "output_type": "stream",
     "text": [
      "Accuracy: 0.88\n",
      "Precision: 1.00\n",
      "Recall: 0.62\n",
      "F-Measure: 0.77\n"
     ]
    }
   ],
   "source": [
    "binary_aprf(iris_pc_test_df[2].to_numpy(),model.predict_labels(iris_pc_test_df))"
   ]
  },
  {
   "cell_type": "code",
   "execution_count": 159,
   "metadata": {},
   "outputs": [
    {
     "name": "stdout",
     "output_type": "stream",
     "text": [
      "Confusion Matrix\n",
      "Tp:  26  Fn:  8  \n",
      "Fp:  3  Tn:  63  \n"
     ]
    },
    {
     "data": {
      "image/png": "[encoded data removed]",
      "text/plain": [
       "<Figure size 432x288 with 1 Axes>"
      ]
     },
     "metadata": {
      "needs_background": "light"
     },
     "output_type": "display_data"
    },
    {
     "data": {
      "text/plain": [
       "array([[26,  8],\n",
       "       [ 3, 63]])"
      ]
     },
     "execution_count": 159,
     "metadata": {},
     "output_type": "execute_result"
    }
   ],
   "source": [
    "binary_confusion_matrix(iris_pc_train_df[2].to_numpy(),model.predict_labels(iris_pc_train_df))"
   ]
  },
  {
   "cell_type": "code",
   "execution_count": 161,
   "metadata": {},
   "outputs": [
    {
     "name": "stdout",
     "output_type": "stream",
     "text": [
      "Confusion Matrix\n",
      "Tp:  10  Fn:  6  \n",
      "Fp:  0  Tn:  34  \n"
     ]
    },
    {
     "data": {
      "image/png": "[encoded data removed]",
      "text/plain": [
       "<Figure size 432x288 with 1 Axes>"
      ]
     },
     "metadata": {
      "needs_background": "light"
     },
     "output_type": "display_data"
    },
    {
     "data": {
      "text/plain": [
       "array([[10,  6],\n",
       "       [ 0, 34]])"
      ]
     },
     "execution_count": 161,
     "metadata": {},
     "output_type": "execute_result"
    }
   ],
   "source": [
    "binary_confusion_matrix(iris_pc_test_df[2].to_numpy(),model.predict_labels(iris_pc_test_df))"
   ]
  },
  {
   "cell_type": "code",
   "execution_count": null,
   "metadata": {},
   "outputs": [],
   "source": []
  },
  {
   "cell_type": "code",
   "execution_count": null,
   "metadata": {},
   "outputs": [],
   "source": []
  },
  {
   "cell_type": "code",
   "execution_count": null,
   "metadata": {},
   "outputs": [],
   "source": []
  },
  {
   "cell_type": "code",
   "execution_count": null,
   "metadata": {},
   "outputs": [],
   "source": []
  }
 ],
 "metadata": {
  "kernelspec": {
   "display_name": "Python 3",
   "language": "python",
   "name": "python3"
  },
  "language_info": {
   "codemirror_mode": {
    "name": "ipython",
    "version": 3
   },
   "file_extension": ".py",
   "mimetype": "text/x-python",
   "name": "python",
   "nbconvert_exporter": "python",
   "pygments_lexer": "ipython3",
   "version": "3.8.5"
  }
 },
 "nbformat": 4,
 "nbformat_minor": 4
}
